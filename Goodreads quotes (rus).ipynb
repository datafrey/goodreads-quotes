{
 "cells": [
  {
   "cell_type": "markdown",
   "metadata": {},
   "source": [
    "# Работа над цитатами, взятыми с сайта Goodreads\n",
    "\n",
    "Источник данных: https://www.kaggle.com/faellielupe/goodreads-quotes\n",
    "\n",
    "## Данные\n",
    "\n",
    "Список признаков (`Переменная`: Значение):\n",
    "\n",
    "- `QUOTE`: Текст цитаты\n",
    "- `AUTHOR`: Автор цитаты\n",
    "- `TITLE`: Название книги-источника цитаты\n",
    "- `LIKES`: Количество лайков у цитаты\n",
    "- `TAGS`: Список тегов для данной цитаты\n",
    "\n",
    "__quotes.sqlite__ - датасет"
   ]
  },
  {
   "cell_type": "code",
   "execution_count": 1,
   "metadata": {},
   "outputs": [],
   "source": [
    "import warnings\n",
    "warnings.filterwarnings('ignore')\n",
    "\n",
    "import sqlite3\n",
    "from tqdm.notebook import tqdm\n",
    "from IPython.display import display\n",
    "import pickle\n",
    "from langdetect import detect as detect_language\n",
    "import ast\n",
    "import string\n",
    "from itertools import tee\n",
    "import textwrap\n",
    "\n",
    "import numpy as np\n",
    "from scipy import spatial\n",
    "from scipy.sparse import lil_matrix\n",
    "import pandas as pd\n",
    "\n",
    "import matplotlib.pyplot as plt; plt.rcParams['figure.dpi'] = 100\n",
    "import seaborn as sns; sns.set()\n",
    "import plotly.graph_objects as go\n",
    "import plotly.express as px\n",
    "\n",
    "from sklearn.manifold import TSNE\n",
    "from sklearn.feature_extraction.text import CountVectorizer\n",
    "\n",
    "import nltk\n",
    "from nltk.tokenize import sent_tokenize, word_tokenize\n",
    "from nltk.corpus import stopwords\n",
    "from nltk.stem import PorterStemmer\n",
    "\n",
    "import gensim\n",
    "from gensim.models import Word2Vec\n",
    "from gensim.models.ldamodel import LdaModel"
   ]
  },
  {
   "cell_type": "markdown",
   "metadata": {},
   "source": [
    "## 1. Семантический поиск похожих цитат\n",
    "\n",
    "Напишем механизм, который позволит находить похожие по содержанию и смыслу цитаты к введённой нами. Будем оценивать текст цитат (подгрузим также авторов статей большей информативности): "
   ]
  },
  {
   "cell_type": "code",
   "execution_count": 2,
   "metadata": {},
   "outputs": [
    {
     "data": {
      "text/html": [
       "<div>\n",
       "<style scoped>\n",
       "    .dataframe tbody tr th:only-of-type {\n",
       "        vertical-align: middle;\n",
       "    }\n",
       "\n",
       "    .dataframe tbody tr th {\n",
       "        vertical-align: top;\n",
       "    }\n",
       "\n",
       "    .dataframe thead th {\n",
       "        text-align: right;\n",
       "    }\n",
       "</style>\n",
       "<table border=\"1\" class=\"dataframe\">\n",
       "  <thead>\n",
       "    <tr style=\"text-align: right;\">\n",
       "      <th></th>\n",
       "      <th>QUOTE</th>\n",
       "      <th>AUTHOR</th>\n",
       "    </tr>\n",
       "  </thead>\n",
       "  <tbody>\n",
       "    <tr>\n",
       "      <th>0</th>\n",
       "      <td>“My life amounts to no more than one drop in a...</td>\n",
       "      <td>David Mitchell</td>\n",
       "    </tr>\n",
       "    <tr>\n",
       "      <th>1</th>\n",
       "      <td>“A half-read book is a half-finished love affa...</td>\n",
       "      <td>David Mitchell</td>\n",
       "    </tr>\n",
       "    <tr>\n",
       "      <th>2</th>\n",
       "      <td>“Our lives are not our own. We are bound to ot...</td>\n",
       "      <td>David Mitchell</td>\n",
       "    </tr>\n",
       "    <tr>\n",
       "      <th>3</th>\n",
       "      <td>“Travel far enough, you meet yourself.”</td>\n",
       "      <td>David Mitchell</td>\n",
       "    </tr>\n",
       "    <tr>\n",
       "      <th>4</th>\n",
       "      <td>“Books don't offer real escape, but they can s...</td>\n",
       "      <td>David Mitchell</td>\n",
       "    </tr>\n",
       "  </tbody>\n",
       "</table>\n",
       "</div>"
      ],
      "text/plain": [
       "                                               QUOTE          AUTHOR\n",
       "0  “My life amounts to no more than one drop in a...  David Mitchell\n",
       "1  “A half-read book is a half-finished love affa...  David Mitchell\n",
       "2  “Our lives are not our own. We are bound to ot...  David Mitchell\n",
       "3            “Travel far enough, you meet yourself.”  David Mitchell\n",
       "4  “Books don't offer real escape, but they can s...  David Mitchell"
      ]
     },
     "execution_count": 2,
     "metadata": {},
     "output_type": "execute_result"
    }
   ],
   "source": [
    "connection = sqlite3.connect('quotes.sqlite')\n",
    "data = pd.read_sql_query('SELECT QUOTE, AUTHOR FROM QUOTES', connection)\n",
    "connection.close()\n",
    "\n",
    "data.head()"
   ]
  },
  {
   "cell_type": "code",
   "execution_count": 3,
   "metadata": {},
   "outputs": [
    {
     "name": "stdout",
     "output_type": "stream",
     "text": [
      "<class 'pandas.core.frame.DataFrame'>\n",
      "RangeIndex: 348085 entries, 0 to 348084\n",
      "Data columns (total 2 columns):\n",
      " #   Column  Non-Null Count   Dtype \n",
      "---  ------  --------------   ----- \n",
      " 0   QUOTE   348085 non-null  object\n",
      " 1   AUTHOR  348085 non-null  object\n",
      "dtypes: object(2)\n",
      "memory usage: 5.3+ MB\n"
     ]
    }
   ],
   "source": [
    "data.info()"
   ]
  },
  {
   "cell_type": "markdown",
   "metadata": {},
   "source": [
    "При чтении результатов запросов к базам данных `pandas` не преобразовывает пропуски в данных в `np.nan`-объекты, а записывает их как `'None'`-строки, поэтому необходимо проверить их наличие вручную:"
   ]
  },
  {
   "cell_type": "code",
   "execution_count": 4,
   "metadata": {},
   "outputs": [
    {
     "name": "stdout",
     "output_type": "stream",
     "text": [
      "Количество пропущенных значений для QUOTE: 0\n",
      "Количество пропущенных значений для AUTHOR: 0\n"
     ]
    }
   ],
   "source": [
    "print('Количество пропущенных значений для QUOTE:', np.sum(data.QUOTE == 'None'))\n",
    "print('Количество пропущенных значений для AUTHOR:', np.sum(data.AUTHOR == 'None'))"
   ]
  },
  {
   "cell_type": "markdown",
   "metadata": {},
   "source": [
    "Пропущенных значений нет.\n",
    "\n",
    "Посмотрим на значения текстов цитат:"
   ]
  },
  {
   "cell_type": "code",
   "execution_count": 5,
   "metadata": {},
   "outputs": [
    {
     "name": "stdout",
     "output_type": "stream",
     "text": [
      "['“My life amounts to no more than one drop in a limitless ocean. Yet what is any ocean, but a multitude of drops?”  \\n  ―'\n",
      " '“A half-read book is a half-finished love affair.”'\n",
      " '“Our lives are not our own. We are bound to others, past and present, and by each crime and every kindness, we birth our future.”'\n",
      " '“Travel far enough, you meet yourself.”'\n",
      " \"“Books don't offer real escape, but they can stop a mind scratching itself raw.”\"]\n"
     ]
    }
   ],
   "source": [
    "print(data.QUOTE.values[:5])"
   ]
  },
  {
   "cell_type": "markdown",
   "metadata": {},
   "source": [
    "Оценим распределение языка цитат:"
   ]
  },
  {
   "cell_type": "code",
   "execution_count": 8,
   "metadata": {},
   "outputs": [],
   "source": [
    "def get_lang(quote):\n",
    "    '''Возвращает индикатор языка для цитаты.'''\n",
    "    try:\n",
    "        return detect_language(quote)\n",
    "    except:\n",
    "        return 'None'"
   ]
  },
  {
   "cell_type": "code",
   "execution_count": 9,
   "metadata": {},
   "outputs": [
    {
     "data": {
      "application/vnd.jupyter.widget-view+json": {
       "model_id": "e8fb72cd419a4e8a98fd5680e409cebb",
       "version_major": 2,
       "version_minor": 0
      },
      "text/plain": [
       "HBox(children=(FloatProgress(value=0.0, max=348085.0), HTML(value='')))"
      ]
     },
     "metadata": {},
     "output_type": "display_data"
    },
    {
     "name": "stdout",
     "output_type": "stream",
     "text": [
      "\n"
     ]
    }
   ],
   "source": [
    "data['LANGUAGE'] = [get_lang(quote) for quote in tqdm(data.QUOTE)]"
   ]
  },
  {
   "cell_type": "code",
   "execution_count": 7,
   "metadata": {},
   "outputs": [
    {
     "data": {
      "text/html": [
       "<div>\n",
       "<style scoped>\n",
       "    .dataframe tbody tr th:only-of-type {\n",
       "        vertical-align: middle;\n",
       "    }\n",
       "\n",
       "    .dataframe tbody tr th {\n",
       "        vertical-align: top;\n",
       "    }\n",
       "\n",
       "    .dataframe thead th {\n",
       "        text-align: right;\n",
       "    }\n",
       "</style>\n",
       "<table border=\"1\" class=\"dataframe\">\n",
       "  <thead>\n",
       "    <tr style=\"text-align: right;\">\n",
       "      <th></th>\n",
       "      <th>QUOTE</th>\n",
       "      <th>AUTHOR</th>\n",
       "      <th>LANGUAGE</th>\n",
       "    </tr>\n",
       "  </thead>\n",
       "  <tbody>\n",
       "    <tr>\n",
       "      <th>0</th>\n",
       "      <td>“My life amounts to no more than one drop in a...</td>\n",
       "      <td>David Mitchell</td>\n",
       "      <td>en</td>\n",
       "    </tr>\n",
       "    <tr>\n",
       "      <th>1</th>\n",
       "      <td>“A half-read book is a half-finished love affa...</td>\n",
       "      <td>David Mitchell</td>\n",
       "      <td>en</td>\n",
       "    </tr>\n",
       "    <tr>\n",
       "      <th>2</th>\n",
       "      <td>“Our lives are not our own. We are bound to ot...</td>\n",
       "      <td>David Mitchell</td>\n",
       "      <td>en</td>\n",
       "    </tr>\n",
       "    <tr>\n",
       "      <th>3</th>\n",
       "      <td>“Travel far enough, you meet yourself.”</td>\n",
       "      <td>David Mitchell</td>\n",
       "      <td>en</td>\n",
       "    </tr>\n",
       "    <tr>\n",
       "      <th>4</th>\n",
       "      <td>“Books don't offer real escape, but they can s...</td>\n",
       "      <td>David Mitchell</td>\n",
       "      <td>en</td>\n",
       "    </tr>\n",
       "  </tbody>\n",
       "</table>\n",
       "</div>"
      ],
      "text/plain": [
       "                                               QUOTE          AUTHOR LANGUAGE\n",
       "0  “My life amounts to no more than one drop in a...  David Mitchell       en\n",
       "1  “A half-read book is a half-finished love affa...  David Mitchell       en\n",
       "2  “Our lives are not our own. We are bound to ot...  David Mitchell       en\n",
       "3            “Travel far enough, you meet yourself.”  David Mitchell       en\n",
       "4  “Books don't offer real escape, but they can s...  David Mitchell       en"
      ]
     },
     "execution_count": 7,
     "metadata": {},
     "output_type": "execute_result"
    }
   ],
   "source": [
    "data.head()"
   ]
  },
  {
   "cell_type": "code",
   "execution_count": 5,
   "metadata": {},
   "outputs": [
    {
     "data": {
      "image/png": "[encoded data removed]",
      "text/plain": [
       "<Figure size 1000x1000 with 1 Axes>"
      ]
     },
     "metadata": {},
     "output_type": "display_data"
    }
   ],
   "source": [
    "plt.figure(figsize=(10, 10))\n",
    "data.LANGUAGE.value_counts().plot(kind='pie')\n",
    "plt.ylabel('')\n",
    "plt.title('Распределение языка цитаты в датасете')\n",
    "plt.show()"
   ]
  },
  {
   "cell_type": "markdown",
   "metadata": {},
   "source": [
    "Цитаты на английском языке преобладают. Сохраним результат:"
   ]
  },
  {
   "cell_type": "code",
   "execution_count": 17,
   "metadata": {},
   "outputs": [],
   "source": [
    "with open('language.pkl', 'wb') as lang_pkl:\n",
    "    pickle.dump(data.LANGUAGE.values, lang_pkl)"
   ]
  },
  {
   "cell_type": "code",
   "execution_count": 4,
   "metadata": {},
   "outputs": [],
   "source": [
    "with open('language.pkl', 'rb') as lang_pkl:\n",
    "    data['LANGUAGE'] = pickle.load(lang_pkl)"
   ]
  },
  {
   "cell_type": "markdown",
   "metadata": {},
   "source": [
    "Будем использовать только цитаты на английском."
   ]
  },
  {
   "cell_type": "code",
   "execution_count": 5,
   "metadata": {},
   "outputs": [
    {
     "data": {
      "text/plain": [
       "(323173, 3)"
      ]
     },
     "execution_count": 5,
     "metadata": {},
     "output_type": "execute_result"
    }
   ],
   "source": [
    "data = data[data.LANGUAGE == 'en']\n",
    "data.shape"
   ]
  },
  {
   "cell_type": "markdown",
   "metadata": {},
   "source": [
    "Удалим также очень короткие цитаты (2 слова), их можно считать мусором:"
   ]
  },
  {
   "cell_type": "code",
   "execution_count": 6,
   "metadata": {},
   "outputs": [
    {
     "name": "stdout",
     "output_type": "stream",
     "text": [
      "CPU times: user 4min, sys: 329 ms, total: 4min 1s\n",
      "Wall time: 4min 3s\n"
     ]
    },
    {
     "data": {
      "text/plain": [
       "(322758, 3)"
      ]
     },
     "execution_count": 6,
     "metadata": {},
     "output_type": "execute_result"
    }
   ],
   "source": [
    "%%time\n",
    "get_word_count = lambda quote: len(word_tokenize(quote))\n",
    "data = data[data.QUOTE.apply(get_word_count) > 3]\n",
    "data.shape"
   ]
  },
  {
   "cell_type": "markdown",
   "metadata": {},
   "source": [
    "Цитаты представляют из себя обычные необработанные тексты: знаки препинания не удалены (в некоторых местах даже присутствуют лишние), стоп-слова присутствуют, слова не приведены к нормальной форме, не стеммированы и не лемматизированы. Исправим это (предложения будут разделены точками, в будущем точки будут удалены):"
   ]
  },
  {
   "cell_type": "code",
   "execution_count": 7,
   "metadata": {},
   "outputs": [],
   "source": [
    "# nltk.download('stopwords')\n",
    "# nltk.download('punkt')"
   ]
  },
  {
   "cell_type": "code",
   "execution_count": 21,
   "metadata": {},
   "outputs": [],
   "source": [
    "nltk_supported_languages = ['hungarian', 'swedish', 'kazakh', 'norwegian',\n",
    "                            'finnish', 'arabic', 'indonesian', 'portuguese',\n",
    "                            'turkish', 'azerbaijani', 'slovene', 'spanish',\n",
    "                            'danish', 'nepali', 'romanian', 'greek', 'dutch',\n",
    "                            'tajik', 'german', 'english', 'russian',\n",
    "                            'french', 'italian']\n",
    "# список стоп-слов\n",
    "stop_words = set(stopwords.words(nltk_supported_languages))\n",
    "# стеммер\n",
    "porter = PorterStemmer()"
   ]
  },
  {
   "cell_type": "code",
   "execution_count": 22,
   "metadata": {},
   "outputs": [],
   "source": [
    "def prepare_quote(quote, divide_sentences=True):\n",
    "    '''Подготовка цитаты: удаление знаков препинания и стоп-слов, стемминг.'''\n",
    "    prepared_quote = ''\n",
    "    for sentence in sent_tokenize(quote):\n",
    "        words = word_tokenize(sentence.lower())\n",
    "        words_wout_punkt = list(filter(lambda word: word.isalnum(), words))\n",
    "        words_wout_stopwords = list(filter(lambda word: word not in stop_words, words_wout_punkt))\n",
    "        stemmed_words = list(map(lambda word: porter.stem(word), words_wout_stopwords))\n",
    "        if stemmed_words != []:\n",
    "            prepared_quote += ' '.join(stemmed_words) + ('. ' if divide_sentences else '')\n",
    "    \n",
    "    return prepared_quote"
   ]
  },
  {
   "cell_type": "code",
   "execution_count": 36,
   "metadata": {},
   "outputs": [
    {
     "data": {
      "application/vnd.jupyter.widget-view+json": {
       "model_id": "ef462253df88483f8973a1cb66330409",
       "version_major": 2,
       "version_minor": 0
      },
      "text/plain": [
       "HBox(children=(FloatProgress(value=0.0, max=322758.0), HTML(value='')))"
      ]
     },
     "metadata": {},
     "output_type": "display_data"
    },
    {
     "name": "stdout",
     "output_type": "stream",
     "text": [
      "\n",
      "CPU times: user 10min 7s, sys: 3.92 s, total: 10min 11s\n",
      "Wall time: 10min 10s\n"
     ]
    }
   ],
   "source": [
    "%%time\n",
    "data['PREPARED_QUOTE'] = [prepare_quote(quote) for quote in tqdm(data.QUOTE)]"
   ]
  },
  {
   "cell_type": "code",
   "execution_count": 37,
   "metadata": {},
   "outputs": [
    {
     "name": "stdout",
     "output_type": "stream",
     "text": [
      "Оригинальная цитата:\n",
      " “My life amounts to no more than one drop in a limitless ocean. Yet what is any ocean, but a multitude of drops?”  \n",
      "  ―\n",
      "Обработанная:\n",
      " life amount drop limitless ocean. yet ocean multitud drop. \n"
     ]
    }
   ],
   "source": [
    "print('Оригинальная цитата:\\n', data.QUOTE[0])\n",
    "print('Обработанная:\\n', data.PREPARED_QUOTE[0])"
   ]
  },
  {
   "cell_type": "markdown",
   "metadata": {},
   "source": [
    "Сохраним результат обработки:"
   ]
  },
  {
   "cell_type": "code",
   "execution_count": 38,
   "metadata": {},
   "outputs": [],
   "source": [
    "# сохранение в файл\n",
    "with open('prepared_quotes.pkl', 'wb') as pq_pkl:\n",
    "    pickle.dump(data.PREPARED_QUOTE.values, pq_pkl)"
   ]
  },
  {
   "cell_type": "code",
   "execution_count": 7,
   "metadata": {},
   "outputs": [],
   "source": [
    "# подгрузка из файла\n",
    "with open('prepared_quotes.pkl', 'rb') as pq_pkl:\n",
    "    data['PREPARED_QUOTE'] = pickle.load(pq_pkl)"
   ]
  },
  {
   "cell_type": "markdown",
   "metadata": {},
   "source": [
    "Удалим из датасета записи, описывающие цитаты, которые до предобработки состояли исключительно из знаков препинания и стоп-слов:"
   ]
  },
  {
   "cell_type": "code",
   "execution_count": 8,
   "metadata": {},
   "outputs": [
    {
     "data": {
      "text/plain": [
       "(322544, 4)"
      ]
     },
     "execution_count": 8,
     "metadata": {},
     "output_type": "execute_result"
    }
   ],
   "source": [
    "data = data[data.PREPARED_QUOTE != '']\n",
    "data.shape"
   ]
  },
  {
   "cell_type": "markdown",
   "metadata": {},
   "source": [
    "Для поиска похожих по смыслу цитат будет использоваться алгоритм создания вложений для слов word2vec. После цитаты будут сравниваться друг с другом по среднему всех векторов слов, из которых они состоят. Натренируем модель word2vec (Skip Gram версия):"
   ]
  },
  {
   "cell_type": "code",
   "execution_count": 41,
   "metadata": {},
   "outputs": [
    {
     "data": {
      "text/plain": [
       "'life amount drop limitless ocean. yet ocean multitud drop. book love affair. live. bound other past present crime everi kind birth futur. travel far enough meet. book offer real escap stop mind scratch raw. believ anoth world wait us. better world. wait. peopl pontif suicid selfish. career churchmen'"
      ]
     },
     "execution_count": 41,
     "metadata": {},
     "output_type": "execute_result"
    }
   ],
   "source": [
    "# объединим все цитаты в одну строку\n",
    "joined_quotes = ''.join(data['PREPARED_QUOTE'])\n",
    "joined_quotes[:300]"
   ]
  },
  {
   "cell_type": "code",
   "execution_count": 42,
   "metadata": {},
   "outputs": [
    {
     "data": {
      "application/vnd.jupyter.widget-view+json": {
       "model_id": "9255b8fe3ef94929acdf441a8d84df31",
       "version_major": 2,
       "version_minor": 0
      },
      "text/plain": [
       "HBox(children=(FloatProgress(value=0.0, max=1103994.0), HTML(value='')))"
      ]
     },
     "metadata": {},
     "output_type": "display_data"
    },
    {
     "name": "stdout",
     "output_type": "stream",
     "text": [
      "\n",
      "\n",
      "CPU times: user 4min 11s, sys: 2.97 s, total: 4min 14s\n",
      "Wall time: 4min 18s\n"
     ]
    },
    {
     "data": {
      "text/plain": [
       "[['life', 'amount', 'drop', 'limitless', 'ocean'],\n",
       " ['yet', 'ocean', 'multitud', 'drop'],\n",
       " ['book', 'love', 'affair'],\n",
       " ['live'],\n",
       " ['bound',\n",
       "  'other',\n",
       "  'past',\n",
       "  'present',\n",
       "  'crime',\n",
       "  'everi',\n",
       "  'kind',\n",
       "  'birth',\n",
       "  'futur']]"
      ]
     },
     "execution_count": 42,
     "metadata": {},
     "output_type": "execute_result"
    }
   ],
   "source": [
    "%%time\n",
    "# преобразуем строку в список предложений, каждое из которых является списком слов\n",
    "sentences_as_word_lists = [word_tokenize(sentence.replace('.', '')) \n",
    "                           for sentence in tqdm(sent_tokenize(joined_quotes))]\n",
    "sentences_as_word_lists[:5]"
   ]
  },
  {
   "cell_type": "code",
   "execution_count": 43,
   "metadata": {},
   "outputs": [
    {
     "name": "stdout",
     "output_type": "stream",
     "text": [
      "CPU times: user 10min 1s, sys: 1.84 s, total: 10min 3s\n",
      "Wall time: 3min 6s\n"
     ]
    }
   ],
   "source": [
    "%%time\n",
    "# тренировка модели\n",
    "model = Word2Vec(sentences_as_word_lists, min_count=1, size=100, window=5, sg=1, workers=4)"
   ]
  },
  {
   "cell_type": "markdown",
   "metadata": {},
   "source": [
    "Проверим работу модели:"
   ]
  },
  {
   "cell_type": "code",
   "execution_count": 14,
   "metadata": {},
   "outputs": [
    {
     "name": "stdout",
     "output_type": "stream",
     "text": [
      "Похожесть слов \"cry\" и \"shout\": 0.719022\n",
      "Похожесть слов \"cry\" и \"auto\" : 0.3060099\n"
     ]
    }
   ],
   "source": [
    "print('Похожесть слов \"cry\" и \"shout\":', model.similarity(porter.stem('cry'), porter.stem('shout')))\n",
    "print('Похожесть слов \"cry\" и \"auto\" :', model.similarity(porter.stem('cry'), porter.stem('auto')))"
   ]
  },
  {
   "cell_type": "markdown",
   "metadata": {},
   "source": [
    "Хорошо, сохраним модель и приступим к механизму нахождения похожих цитат."
   ]
  },
  {
   "cell_type": "code",
   "execution_count": 45,
   "metadata": {},
   "outputs": [],
   "source": [
    "# сохранение в файл\n",
    "model.save('word2vec_model.gs')"
   ]
  },
  {
   "cell_type": "code",
   "execution_count": 111,
   "metadata": {},
   "outputs": [],
   "source": [
    "# подгрузка из файла\n",
    "model = Word2Vec.load('word2vec_model.gs')"
   ]
  },
  {
   "cell_type": "markdown",
   "metadata": {},
   "source": [
    "Посчитаем и добавим в таблицу `data` векторы цитат для удобства:"
   ]
  },
  {
   "cell_type": "code",
   "execution_count": 112,
   "metadata": {},
   "outputs": [],
   "source": [
    "def get_quote_vector(quote):\n",
    "    '''Вычисление вектора для цитаты.'''\n",
    "    words = word_tokenize(quote.replace('.', ''))\n",
    "    word_vectors = []\n",
    "    for word in words:\n",
    "        try:\n",
    "            word_vectors += [model.wv[word]]\n",
    "        except KeyError:\n",
    "            continue\n",
    "    \n",
    "    quote_vector = np.mean(word_vectors, axis=0)\n",
    "    return quote_vector"
   ]
  },
  {
   "cell_type": "code",
   "execution_count": 113,
   "metadata": {
    "scrolled": false
   },
   "outputs": [
    {
     "name": "stdout",
     "output_type": "stream",
     "text": [
      "CPU times: user 1min 51s, sys: 541 ms, total: 1min 52s\n",
      "Wall time: 1min 56s\n"
     ]
    }
   ],
   "source": [
    "%%time\n",
    "data['QUOTE_VECTOR'] = data['PREPARED_QUOTE'].apply(get_quote_vector)"
   ]
  },
  {
   "cell_type": "code",
   "execution_count": 114,
   "metadata": {},
   "outputs": [
    {
     "data": {
      "text/html": [
       "<div>\n",
       "<style scoped>\n",
       "    .dataframe tbody tr th:only-of-type {\n",
       "        vertical-align: middle;\n",
       "    }\n",
       "\n",
       "    .dataframe tbody tr th {\n",
       "        vertical-align: top;\n",
       "    }\n",
       "\n",
       "    .dataframe thead th {\n",
       "        text-align: right;\n",
       "    }\n",
       "</style>\n",
       "<table border=\"1\" class=\"dataframe\">\n",
       "  <thead>\n",
       "    <tr style=\"text-align: right;\">\n",
       "      <th></th>\n",
       "      <th>QUOTE</th>\n",
       "      <th>AUTHOR</th>\n",
       "      <th>LANGUAGE</th>\n",
       "      <th>PREPARED_QUOTE</th>\n",
       "      <th>QUOTE_VECTOR</th>\n",
       "    </tr>\n",
       "  </thead>\n",
       "  <tbody>\n",
       "    <tr>\n",
       "      <th>0</th>\n",
       "      <td>“My life amounts to no more than one drop in a...</td>\n",
       "      <td>David Mitchell</td>\n",
       "      <td>en</td>\n",
       "      <td>life amount drop limitless ocean. yet ocean mu...</td>\n",
       "      <td>[0.10461172, -0.058469925, 0.21452108, -0.2880...</td>\n",
       "    </tr>\n",
       "    <tr>\n",
       "      <th>1</th>\n",
       "      <td>“A half-read book is a half-finished love affa...</td>\n",
       "      <td>David Mitchell</td>\n",
       "      <td>en</td>\n",
       "      <td>book love affair.</td>\n",
       "      <td>[0.11077732, -0.22591327, -0.018270377, -0.345...</td>\n",
       "    </tr>\n",
       "    <tr>\n",
       "      <th>2</th>\n",
       "      <td>“Our lives are not our own. We are bound to ot...</td>\n",
       "      <td>David Mitchell</td>\n",
       "      <td>en</td>\n",
       "      <td>live. bound other past present crime everi kin...</td>\n",
       "      <td>[0.055178106, 0.08037259, 0.015577933, -0.2612...</td>\n",
       "    </tr>\n",
       "    <tr>\n",
       "      <th>3</th>\n",
       "      <td>“Travel far enough, you meet yourself.”</td>\n",
       "      <td>David Mitchell</td>\n",
       "      <td>en</td>\n",
       "      <td>travel far enough meet.</td>\n",
       "      <td>[0.044136025, -0.14412153, 0.21425459, -0.2030...</td>\n",
       "    </tr>\n",
       "    <tr>\n",
       "      <th>4</th>\n",
       "      <td>“Books don't offer real escape, but they can s...</td>\n",
       "      <td>David Mitchell</td>\n",
       "      <td>en</td>\n",
       "      <td>book offer real escap stop mind scratch raw.</td>\n",
       "      <td>[0.19739327, -0.020483296, -0.087877855, -0.03...</td>\n",
       "    </tr>\n",
       "  </tbody>\n",
       "</table>\n",
       "</div>"
      ],
      "text/plain": [
       "                                               QUOTE          AUTHOR LANGUAGE  \\\n",
       "0  “My life amounts to no more than one drop in a...  David Mitchell       en   \n",
       "1  “A half-read book is a half-finished love affa...  David Mitchell       en   \n",
       "2  “Our lives are not our own. We are bound to ot...  David Mitchell       en   \n",
       "3            “Travel far enough, you meet yourself.”  David Mitchell       en   \n",
       "4  “Books don't offer real escape, but they can s...  David Mitchell       en   \n",
       "\n",
       "                                      PREPARED_QUOTE  \\\n",
       "0  life amount drop limitless ocean. yet ocean mu...   \n",
       "1                                 book love affair.    \n",
       "2  live. bound other past present crime everi kin...   \n",
       "3                           travel far enough meet.    \n",
       "4      book offer real escap stop mind scratch raw.    \n",
       "\n",
       "                                        QUOTE_VECTOR  \n",
       "0  [0.10461172, -0.058469925, 0.21452108, -0.2880...  \n",
       "1  [0.11077732, -0.22591327, -0.018270377, -0.345...  \n",
       "2  [0.055178106, 0.08037259, 0.015577933, -0.2612...  \n",
       "3  [0.044136025, -0.14412153, 0.21425459, -0.2030...  \n",
       "4  [0.19739327, -0.020483296, -0.087877855, -0.03...  "
      ]
     },
     "execution_count": 114,
     "metadata": {},
     "output_type": "execute_result"
    }
   ],
   "source": [
    "data.head()"
   ]
  },
  {
   "cell_type": "code",
   "execution_count": 115,
   "metadata": {},
   "outputs": [
    {
     "name": "stdout",
     "output_type": "stream",
     "text": [
      "<class 'pandas.core.frame.DataFrame'>\n",
      "Int64Index: 322544 entries, 0 to 348084\n",
      "Data columns (total 5 columns):\n",
      " #   Column          Non-Null Count   Dtype \n",
      "---  ------          --------------   ----- \n",
      " 0   QUOTE           322544 non-null  object\n",
      " 1   AUTHOR          322544 non-null  object\n",
      " 2   LANGUAGE        322544 non-null  object\n",
      " 3   PREPARED_QUOTE  322544 non-null  object\n",
      " 4   QUOTE_VECTOR    322544 non-null  object\n",
      "dtypes: object(5)\n",
      "memory usage: 14.8+ MB\n"
     ]
    }
   ],
   "source": [
    "data.info()"
   ]
  },
  {
   "cell_type": "markdown",
   "metadata": {},
   "source": [
    "Удалим записи, для которых сформировать вектор не удалось:"
   ]
  },
  {
   "cell_type": "code",
   "execution_count": 116,
   "metadata": {},
   "outputs": [
    {
     "name": "stdout",
     "output_type": "stream",
     "text": [
      "<class 'pandas.core.frame.DataFrame'>\n",
      "Int64Index: 322544 entries, 0 to 348084\n",
      "Data columns (total 5 columns):\n",
      " #   Column          Non-Null Count   Dtype \n",
      "---  ------          --------------   ----- \n",
      " 0   QUOTE           322544 non-null  object\n",
      " 1   AUTHOR          322544 non-null  object\n",
      " 2   LANGUAGE        322544 non-null  object\n",
      " 3   PREPARED_QUOTE  322544 non-null  object\n",
      " 4   QUOTE_VECTOR    322544 non-null  object\n",
      "dtypes: object(5)\n",
      "memory usage: 14.8+ MB\n"
     ]
    }
   ],
   "source": [
    "data.dropna(inplace=True)\n",
    "data.info()"
   ]
  },
  {
   "cell_type": "markdown",
   "metadata": {},
   "source": [
    "Функция, возвращающая наиболее похожие цитаты на переданную в неё:"
   ]
  },
  {
   "cell_type": "code",
   "execution_count": 17,
   "metadata": {},
   "outputs": [],
   "source": [
    "def cosine_similarity(vector1, vector2):\n",
    "    '''Похожесть векторов (коэффициент Отиаи).'''\n",
    "    return 1 - spatial.distance.cosine(vector1, vector2)"
   ]
  },
  {
   "cell_type": "code",
   "execution_count": 18,
   "metadata": {},
   "outputs": [],
   "source": [
    "def get_most_similar(quote, n_similars=10):\n",
    "    '''Возвращает топ-n_similars похожих на указанную цитат.'''\n",
    "    quote_vector = get_quote_vector(prepare_quote(quote))\n",
    "    similarities = []\n",
    "    for table_quote_vector in tqdm(data.QUOTE_VECTOR):\n",
    "        similarities += [cosine_similarity(quote_vector, table_quote_vector)]\n",
    "    \n",
    "    ind_x_sim_sorted = sorted(list(enumerate(similarities)), \n",
    "                              key=lambda pair: pair[1], \n",
    "                              reverse=True)\n",
    "    most_similar = data.iloc[[ind for ind, _ in ind_x_sim_sorted[:n_similars]]][['QUOTE', 'AUTHOR']]\n",
    "    most_similar['SIMILARITY'] = [sim for _, sim in ind_x_sim_sorted[:n_similars]]\n",
    "    return most_similar"
   ]
  },
  {
   "cell_type": "markdown",
   "metadata": {},
   "source": [
    "Проверим работу на одной из цитат из таблицы, на цитате с индексом 1:"
   ]
  },
  {
   "cell_type": "code",
   "execution_count": 23,
   "metadata": {},
   "outputs": [
    {
     "data": {
      "application/vnd.jupyter.widget-view+json": {
       "model_id": "f901f1925fd24d27bc0080ecde5277ff",
       "version_major": 2,
       "version_minor": 0
      },
      "text/plain": [
       "HBox(children=(FloatProgress(value=0.0, max=322544.0), HTML(value='')))"
      ]
     },
     "metadata": {},
     "output_type": "display_data"
    },
    {
     "name": "stdout",
     "output_type": "stream",
     "text": [
      "\n",
      "CPU times: user 44.8 s, sys: 437 ms, total: 45.2 s\n",
      "Wall time: 45.5 s\n"
     ]
    }
   ],
   "source": [
    "%%time\n",
    "most_similar_to_quote1 = get_most_similar(data.QUOTE[1])"
   ]
  },
  {
   "cell_type": "code",
   "execution_count": 24,
   "metadata": {},
   "outputs": [
    {
     "data": {
      "text/html": [
       "<div>\n",
       "<style scoped>\n",
       "    .dataframe tbody tr th:only-of-type {\n",
       "        vertical-align: middle;\n",
       "    }\n",
       "\n",
       "    .dataframe tbody tr th {\n",
       "        vertical-align: top;\n",
       "    }\n",
       "\n",
       "    .dataframe thead th {\n",
       "        text-align: right;\n",
       "    }\n",
       "</style>\n",
       "<table border=\"1\" class=\"dataframe\">\n",
       "  <thead>\n",
       "    <tr style=\"text-align: right;\">\n",
       "      <th></th>\n",
       "      <th>QUOTE</th>\n",
       "      <th>AUTHOR</th>\n",
       "      <th>SIMILARITY</th>\n",
       "    </tr>\n",
       "  </thead>\n",
       "  <tbody>\n",
       "    <tr>\n",
       "      <th>1</th>\n",
       "      <td>“A half-read book is a half-finished love affa...</td>\n",
       "      <td>David Mitchell</td>\n",
       "      <td>1.000000</td>\n",
       "    </tr>\n",
       "    <tr>\n",
       "      <th>346166</th>\n",
       "      <td>“I had a love affair with books, with the char...</td>\n",
       "      <td>Marya Hornbacher</td>\n",
       "      <td>0.938753</td>\n",
       "    </tr>\n",
       "    <tr>\n",
       "      <th>335123</th>\n",
       "      <td>“Also, how could anyone who loves books not lo...</td>\n",
       "      <td>Will Schwalbe</td>\n",
       "      <td>0.924277</td>\n",
       "    </tr>\n",
       "    <tr>\n",
       "      <th>66793</th>\n",
       "      <td>“When a long book succeeds, the writer and rea...</td>\n",
       "      <td>Stephen King</td>\n",
       "      <td>0.911038</td>\n",
       "    </tr>\n",
       "    <tr>\n",
       "      <th>313009</th>\n",
       "      <td>“Of course I loved books more than people.”</td>\n",
       "      <td>Diane Setterfield</td>\n",
       "      <td>0.908722</td>\n",
       "    </tr>\n",
       "    <tr>\n",
       "      <th>269153</th>\n",
       "      <td>“love had turned into \"love affair\" with a beg...</td>\n",
       "      <td>Graham Greene</td>\n",
       "      <td>0.903610</td>\n",
       "    </tr>\n",
       "    <tr>\n",
       "      <th>307508</th>\n",
       "      <td>“I am deaf, I love to read the ebook and regul...</td>\n",
       "      <td>Charlaine Harris</td>\n",
       "      <td>0.903552</td>\n",
       "    </tr>\n",
       "    <tr>\n",
       "      <th>269074</th>\n",
       "      <td>“Book lovers love books!\" her mother announced...</td>\n",
       "      <td>Chris Van Allsburg</td>\n",
       "      <td>0.903313</td>\n",
       "    </tr>\n",
       "    <tr>\n",
       "      <th>287490</th>\n",
       "      <td>“Marriage . . . is not a love affair; it is an...</td>\n",
       "      <td>Joseph Campbell</td>\n",
       "      <td>0.901520</td>\n",
       "    </tr>\n",
       "    <tr>\n",
       "      <th>77171</th>\n",
       "      <td>“What could be more lovely than writing a book...</td>\n",
       "      <td>Mark Helprin</td>\n",
       "      <td>0.900421</td>\n",
       "    </tr>\n",
       "  </tbody>\n",
       "</table>\n",
       "</div>"
      ],
      "text/plain": [
       "                                                    QUOTE              AUTHOR  \\\n",
       "1       “A half-read book is a half-finished love affa...      David Mitchell   \n",
       "346166  “I had a love affair with books, with the char...    Marya Hornbacher   \n",
       "335123  “Also, how could anyone who loves books not lo...       Will Schwalbe   \n",
       "66793   “When a long book succeeds, the writer and rea...        Stephen King   \n",
       "313009        “Of course I loved books more than people.”   Diane Setterfield   \n",
       "269153  “love had turned into \"love affair\" with a beg...       Graham Greene   \n",
       "307508  “I am deaf, I love to read the ebook and regul...    Charlaine Harris   \n",
       "269074  “Book lovers love books!\" her mother announced...  Chris Van Allsburg   \n",
       "287490  “Marriage . . . is not a love affair; it is an...     Joseph Campbell   \n",
       "77171   “What could be more lovely than writing a book...        Mark Helprin   \n",
       "\n",
       "        SIMILARITY  \n",
       "1         1.000000  \n",
       "346166    0.938753  \n",
       "335123    0.924277  \n",
       "66793     0.911038  \n",
       "313009    0.908722  \n",
       "269153    0.903610  \n",
       "307508    0.903552  \n",
       "269074    0.903313  \n",
       "287490    0.901520  \n",
       "77171     0.900421  "
      ]
     },
     "execution_count": 24,
     "metadata": {},
     "output_type": "execute_result"
    }
   ],
   "source": [
    "most_similar_to_quote1"
   ]
  },
  {
   "cell_type": "markdown",
   "metadata": {},
   "source": [
    "Выведем результат в более понятном виде:"
   ]
  },
  {
   "cell_type": "code",
   "execution_count": 25,
   "metadata": {},
   "outputs": [],
   "source": [
    "def print_gms_results(original_quote, most_similar_quotes_df):\n",
    "    '''Отображает информацию о похожих цитатах.'''\n",
    "    print(f'Цитаты, наиболее похожие на: {original_quote}\\n\\n')\n",
    "    for no, quote_info in enumerate(most_similar_quotes_df.values, 1):\n",
    "        quote, author, similarity = quote_info\n",
    "        print(f'{no}. {quote} (c) {author} (похожесть: {similarity})\\n')"
   ]
  },
  {
   "cell_type": "code",
   "execution_count": 26,
   "metadata": {},
   "outputs": [
    {
     "name": "stdout",
     "output_type": "stream",
     "text": [
      "Цитаты, наиболее похожие на: “A half-read book is a half-finished love affair.”\n",
      "\n",
      "\n",
      "1. “A half-read book is a half-finished love affair.” (c) David Mitchell (похожесть: 1.0)\n",
      "\n",
      "2. “I had a love affair with books, with the characters and their worlds. Books kept me company” (c) Marya Hornbacher (похожесть: 0.9387528896331787)\n",
      "\n",
      "3. “Also, how could anyone who loves books not love a book that is itself so in love with books?” (c) Will Schwalbe (похожесть: 0.9242767095565796)\n",
      "\n",
      "4. “When a long book succeeds, the writer and reader are not just having an affair; they are married.” (c) Stephen King (похожесть: 0.9110384583473206)\n",
      "\n",
      "5. “Of course I loved books more than people.” (c) Diane Setterfield (похожесть: 0.9087222814559937)\n",
      "\n",
      "6. “love had turned into \"love affair\" with a begining and an end.” (c) Graham Greene (похожесть: 0.9036098718643188)\n",
      "\n",
      "7. “I am deaf, I love to read the ebook and regular books. But I am not picky any kind of books. I love all books are best authors.” (c) Charlaine Harris (похожесть: 0.9035518169403076)\n",
      "\n",
      "8. “Book lovers love books!\" her mother announced. \"There's romance about the books- even having them seems to have a kind of excitement.\"\n",
      "from Mr. Linden's Library by Walter Dean Myers” (c) Chris Van Allsburg (похожесть: 0.903313398361206)\n",
      "\n",
      "9. “Marriage . . . is not a love affair; it is an ordeal. (92)” (c) Joseph Campbell (похожесть: 0.9015198349952698)\n",
      "\n",
      "10. “What could be more lovely than writing a book about something you love?” (c) Mark Helprin (похожесть: 0.9004209041595459)\n",
      "\n"
     ]
    }
   ],
   "source": [
    "print_gms_results(data.QUOTE[1], most_similar_to_quote1)"
   ]
  },
  {
   "cell_type": "markdown",
   "metadata": {},
   "source": [
    "Механизм работает! Наиболее похожей цитатой на исходную является, конечно же, она сама. Тема остальных цитат совпадает с темой исходной, которую можно описать как \"любовь к книгам\".\n",
    "\n",
    "Теперь проверим на цитате, ввёдённой вручную:"
   ]
  },
  {
   "cell_type": "code",
   "execution_count": 27,
   "metadata": {},
   "outputs": [],
   "source": [
    "custom_quote = '\"Without music, life would be a mistake.\"'"
   ]
  },
  {
   "cell_type": "code",
   "execution_count": 28,
   "metadata": {},
   "outputs": [
    {
     "data": {
      "application/vnd.jupyter.widget-view+json": {
       "model_id": "df4acd3a06ef473f8e72a9817336077b",
       "version_major": 2,
       "version_minor": 0
      },
      "text/plain": [
       "HBox(children=(FloatProgress(value=0.0, max=322544.0), HTML(value='')))"
      ]
     },
     "metadata": {},
     "output_type": "display_data"
    },
    {
     "name": "stdout",
     "output_type": "stream",
     "text": [
      "\n",
      "CPU times: user 39.8 s, sys: 306 ms, total: 40.1 s\n",
      "Wall time: 40.2 s\n"
     ]
    }
   ],
   "source": [
    "%%time\n",
    "most_similar_to_custom_quote = get_most_similar(custom_quote)"
   ]
  },
  {
   "cell_type": "code",
   "execution_count": 29,
   "metadata": {},
   "outputs": [
    {
     "name": "stdout",
     "output_type": "stream",
     "text": [
      "Цитаты, наиболее похожие на: \"Without music, life would be a mistake.\"\n",
      "\n",
      "\n",
      "1. “Without music, life would be a mistake.”  \n",
      "  ― (c) Friedrich Nietzsche (похожесть: 0.9684449434280396)\n",
      "\n",
      "2. “Life seems to go on without effort when I am filled with music.” (c) George Eliot (похожесть: 0.9441436529159546)\n",
      "\n",
      "3. “Without music, life would be a blank to me.” (c) Jane Austen (похожесть: 0.9414180517196655)\n",
      "\n",
      "4. “If all music did was bring the past alive, that would be fine. You can hide away in music and let it recapture memories of things that used to be. But music is greedy and it wants more of your heart than that. It demands the future, your future. Music wants the rest of your life. So you can't rest easy. At any moment, a song can come out of nowhere to shake you up, jump-start your emotions, ruin your life.” (c) Rob Sheffield (похожесть: 0.9350348711013794)\n",
      "\n",
      "5. “IF ALL MUSIC DID WAS bring the past alive, that would be fine. You can hide away in music and let it recapture memories of things that used to be. But music is greedy and it wants more of your heart than that. It demands the future, your future. Music wants the rest of your life. So you can’t rest easy. At any moment, a song can come out of nowhere to shake you up, jump-start your emotions, ruin your life.” (c) Rob Sheffield (похожесть: 0.9350348711013794)\n",
      "\n",
      "6. “I do think free will is sewn into everything we do; you can't cross a street, light a cigarette, drop saccharine in your coffee without really doing it. Yet the possible alternatives that life allows us are very few, often there must be none. I've never thought there was any choice for me about writing poetry. No doubt if I used my head better, ordered my life better, worked harder etc., the poetry would be improved, and there must be many lost poems, innumerable accidents and ill-done actions. But asking you is the might have been for me, the one towering change, the other life that might have been had.” (c) Robert Lowell (похожесть: 0.9347192049026489)\n",
      "\n",
      "7. “If only she could be so oblivious again, to feel such love without knowing it, mistaking it for laughter. ” (c) Markus Zusak (похожесть: 0.933032751083374)\n",
      "\n",
      "8. “If it weren't for music, I would think that love is mortal.” (c) Mark Helprin (похожесть: 0.9330158233642578)\n",
      "\n",
      "9. “I think I should have no other mortal wants, if I could always have plenty of music. It seems to infuse strength into my limbs and ideas into my brain. Life seems to go on without effort, when I am filled with music. —GEORGE ELIOT” (c) Sarah Ban Breathnach (похожесть: 0.9326593279838562)\n",
      "\n",
      "10. “But somehow at the back of my mind was the feeling that if I did “the sensible thing” I would regret it, for I would be choosing a way of life that would be so predictable, it would rob me of all the excitement that made up the savor of living. If” (c) Victoria Holt (похожесть: 0.9310070872306824)\n",
      "\n"
     ]
    }
   ],
   "source": [
    "print_gms_results(custom_quote, most_similar_to_custom_quote)"
   ]
  },
  {
   "cell_type": "markdown",
   "metadata": {},
   "source": [
    "Как оказалось, эта цитата Ницше присутствует в таблице. И снова хороший результат: в общих чертах большинство цитат о музыке и о \"том, без чего жизнь была бы ошибкой\"."
   ]
  },
  {
   "cell_type": "markdown",
   "metadata": {},
   "source": [
    "# 2. Предсказание темы цитаты\n",
    "\n",
    "Попробуем разделить цитаты на темы по их содержанию. В этом нам помогут теги:"
   ]
  },
  {
   "cell_type": "code",
   "execution_count": 30,
   "metadata": {},
   "outputs": [
    {
     "data": {
      "text/html": [
       "<div>\n",
       "<style scoped>\n",
       "    .dataframe tbody tr th:only-of-type {\n",
       "        vertical-align: middle;\n",
       "    }\n",
       "\n",
       "    .dataframe tbody tr th {\n",
       "        vertical-align: top;\n",
       "    }\n",
       "\n",
       "    .dataframe thead th {\n",
       "        text-align: right;\n",
       "    }\n",
       "</style>\n",
       "<table border=\"1\" class=\"dataframe\">\n",
       "  <thead>\n",
       "    <tr style=\"text-align: right;\">\n",
       "      <th></th>\n",
       "      <th>TAGS</th>\n",
       "    </tr>\n",
       "  </thead>\n",
       "  <tbody>\n",
       "    <tr>\n",
       "      <th>0</th>\n",
       "      <td>None</td>\n",
       "    </tr>\n",
       "    <tr>\n",
       "      <th>1</th>\n",
       "      <td>['love', 'reading']</td>\n",
       "    </tr>\n",
       "    <tr>\n",
       "      <th>2</th>\n",
       "      <td>None</td>\n",
       "    </tr>\n",
       "    <tr>\n",
       "      <th>3</th>\n",
       "      <td>['travel']</td>\n",
       "    </tr>\n",
       "    <tr>\n",
       "      <th>4</th>\n",
       "      <td>['escape', 'reading']</td>\n",
       "    </tr>\n",
       "  </tbody>\n",
       "</table>\n",
       "</div>"
      ],
      "text/plain": [
       "                    TAGS\n",
       "0                   None\n",
       "1    ['love', 'reading']\n",
       "2                   None\n",
       "3             ['travel']\n",
       "4  ['escape', 'reading']"
      ]
     },
     "execution_count": 30,
     "metadata": {},
     "output_type": "execute_result"
    }
   ],
   "source": [
    "connection = sqlite3.connect('quotes.sqlite')\n",
    "tags = pd.read_sql_query('SELECT TAGS FROM QUOTES', connection)\n",
    "connection.close()\n",
    "\n",
    "tags = tags.iloc[data.index]\n",
    "\n",
    "tags.head()"
   ]
  },
  {
   "cell_type": "code",
   "execution_count": 31,
   "metadata": {},
   "outputs": [
    {
     "name": "stdout",
     "output_type": "stream",
     "text": [
      "<class 'pandas.core.frame.DataFrame'>\n",
      "Int64Index: 322544 entries, 0 to 348084\n",
      "Data columns (total 1 columns):\n",
      " #   Column  Non-Null Count   Dtype \n",
      "---  ------  --------------   ----- \n",
      " 0   TAGS    322544 non-null  object\n",
      "dtypes: object(1)\n",
      "memory usage: 4.9+ MB\n"
     ]
    }
   ],
   "source": [
    "tags.info()"
   ]
  },
  {
   "cell_type": "code",
   "execution_count": 32,
   "metadata": {},
   "outputs": [
    {
     "name": "stdout",
     "output_type": "stream",
     "text": [
      "Количество пропущенных значений для TAGS: 228058\n"
     ]
    }
   ],
   "source": [
    "print('Количество пропущенных значений для TAGS:', np.sum(tags.TAGS == 'None'))"
   ]
  },
  {
   "cell_type": "markdown",
   "metadata": {},
   "source": [
    "Теги в базе данных представлены как списки ключевых слов, однако сохранены в формате строк. Для большинства цитат теги не указаны. Заполним пропущенные значения строкой, которую можно интерпретировать как пустой список, и преобразуем строки в списки:"
   ]
  },
  {
   "cell_type": "code",
   "execution_count": 33,
   "metadata": {},
   "outputs": [
    {
     "data": {
      "text/plain": [
       "0                       []\n",
       "1      ['love', 'reading']\n",
       "2                       []\n",
       "3               ['travel']\n",
       "4    ['escape', 'reading']\n",
       "Name: TAGS, dtype: object"
      ]
     },
     "execution_count": 33,
     "metadata": {},
     "output_type": "execute_result"
    }
   ],
   "source": [
    "tags['TAGS'].replace('None', '[]', inplace=True)\n",
    "tags.TAGS.head()"
   ]
  },
  {
   "cell_type": "code",
   "execution_count": 34,
   "metadata": {},
   "outputs": [
    {
     "data": {
      "text/plain": [
       "0                   []\n",
       "1      [love, reading]\n",
       "2                   []\n",
       "3             [travel]\n",
       "4    [escape, reading]\n",
       "Name: TAGS, dtype: object"
      ]
     },
     "execution_count": 34,
     "metadata": {},
     "output_type": "execute_result"
    }
   ],
   "source": [
    "tags['TAGS'] = tags['TAGS'].apply(ast.literal_eval)\n",
    "tags['TAGS'].head()"
   ]
  },
  {
   "cell_type": "markdown",
   "metadata": {},
   "source": [
    "Теперь данные записаны, как нужно:"
   ]
  },
  {
   "cell_type": "code",
   "execution_count": 35,
   "metadata": {},
   "outputs": [
    {
     "data": {
      "text/plain": [
       "(['love', 'reading'], list)"
      ]
     },
     "execution_count": 35,
     "metadata": {},
     "output_type": "execute_result"
    }
   ],
   "source": [
    "tags['TAGS'][1], type(tags['TAGS'][1])"
   ]
  },
  {
   "cell_type": "code",
   "execution_count": 36,
   "metadata": {},
   "outputs": [
    {
     "name": "stdout",
     "output_type": "stream",
     "text": [
      "Топ-15 наиболее часто используемых тегов:\n"
     ]
    },
    {
     "data": {
      "text/html": [
       "<div>\n",
       "<style scoped>\n",
       "    .dataframe tbody tr th:only-of-type {\n",
       "        vertical-align: middle;\n",
       "    }\n",
       "\n",
       "    .dataframe tbody tr th {\n",
       "        vertical-align: top;\n",
       "    }\n",
       "\n",
       "    .dataframe thead th {\n",
       "        text-align: right;\n",
       "    }\n",
       "</style>\n",
       "<table border=\"1\" class=\"dataframe\">\n",
       "  <thead>\n",
       "    <tr style=\"text-align: right;\">\n",
       "      <th></th>\n",
       "      <th>Тег</th>\n",
       "      <th>Количество использований</th>\n",
       "    </tr>\n",
       "  </thead>\n",
       "  <tbody>\n",
       "    <tr>\n",
       "      <th>14791</th>\n",
       "      <td>love</td>\n",
       "      <td>4357</td>\n",
       "    </tr>\n",
       "    <tr>\n",
       "      <th>14111</th>\n",
       "      <td>life</td>\n",
       "      <td>3077</td>\n",
       "    </tr>\n",
       "    <tr>\n",
       "      <th>10829</th>\n",
       "      <td>humor</td>\n",
       "      <td>2860</td>\n",
       "    </tr>\n",
       "    <tr>\n",
       "      <th>23485</th>\n",
       "      <td>romance</td>\n",
       "      <td>1184</td>\n",
       "    </tr>\n",
       "    <tr>\n",
       "      <th>11663</th>\n",
       "      <td>inspirational</td>\n",
       "      <td>1172</td>\n",
       "    </tr>\n",
       "    <tr>\n",
       "      <th>32702</th>\n",
       "      <td>writing</td>\n",
       "      <td>1091</td>\n",
       "    </tr>\n",
       "    <tr>\n",
       "      <th>22740</th>\n",
       "      <td>relationship-quotes</td>\n",
       "      <td>1044</td>\n",
       "    </tr>\n",
       "    <tr>\n",
       "      <th>30146</th>\n",
       "      <td>truth</td>\n",
       "      <td>1034</td>\n",
       "    </tr>\n",
       "    <tr>\n",
       "      <th>22774</th>\n",
       "      <td>religion</td>\n",
       "      <td>1021</td>\n",
       "    </tr>\n",
       "    <tr>\n",
       "      <th>22099</th>\n",
       "      <td>quotes-by-susan-c-young</td>\n",
       "      <td>824</td>\n",
       "    </tr>\n",
       "    <tr>\n",
       "      <th>20460</th>\n",
       "      <td>philosophy</td>\n",
       "      <td>794</td>\n",
       "    </tr>\n",
       "    <tr>\n",
       "      <th>32406</th>\n",
       "      <td>women</td>\n",
       "      <td>788</td>\n",
       "    </tr>\n",
       "    <tr>\n",
       "      <th>3412</th>\n",
       "      <td>communication-skills</td>\n",
       "      <td>786</td>\n",
       "    </tr>\n",
       "    <tr>\n",
       "      <th>31544</th>\n",
       "      <td>war</td>\n",
       "      <td>761</td>\n",
       "    </tr>\n",
       "    <tr>\n",
       "      <th>8876</th>\n",
       "      <td>god</td>\n",
       "      <td>745</td>\n",
       "    </tr>\n",
       "  </tbody>\n",
       "</table>\n",
       "</div>"
      ],
      "text/plain": [
       "                           Тег  Количество использований\n",
       "14791                     love                      4357\n",
       "14111                     life                      3077\n",
       "10829                    humor                      2860\n",
       "23485                  romance                      1184\n",
       "11663            inspirational                      1172\n",
       "32702                  writing                      1091\n",
       "22740      relationship-quotes                      1044\n",
       "30146                    truth                      1034\n",
       "22774                 religion                      1021\n",
       "22099  quotes-by-susan-c-young                       824\n",
       "20460               philosophy                       794\n",
       "32406                    women                       788\n",
       "3412      communication-skills                       786\n",
       "31544                      war                       761\n",
       "8876                       god                       745"
      ]
     },
     "execution_count": 36,
     "metadata": {},
     "output_type": "execute_result"
    }
   ],
   "source": [
    "all_tags = np.hstack(tags['TAGS'])\n",
    "unique_tags, counts = np.unique(all_tags, return_counts=True)\n",
    "print('Топ-15 наиболее часто используемых тегов:')\n",
    "top_tags = pd.DataFrame({'Тег': unique_tags, 'Количество использований': counts}).sort_values(by='Количество использований', \n",
    "                                                                                              ascending=False).head(15)\n",
    "top_tags"
   ]
  },
  {
   "cell_type": "markdown",
   "metadata": {},
   "source": [
    "По тегам можно примерно оценить наиболее популярные темы цитат. Здесь наиболее популярной оказалась `love`.\n",
    "\n",
    "Посмотрим, можно ли кластеризовать данные с помощью полученных ранее word2vec векторов. Сократим количество признаков в матрице векторов цитат с помощью t-SNE-преобразования и посмотрим, насколько хорошо темы цитат отделимы друг от друга при таком представлении:"
   ]
  },
  {
   "cell_type": "code",
   "execution_count": 118,
   "metadata": {},
   "outputs": [],
   "source": [
    "# возьмём случайные 30000 цитат для экономии ресурсов компьютера и времени\n",
    "sample = data.sample(30000, random_state=42)"
   ]
  },
  {
   "cell_type": "code",
   "execution_count": 119,
   "metadata": {},
   "outputs": [
    {
     "name": "stdout",
     "output_type": "stream",
     "text": [
      "CPU times: user 16min 43s, sys: 7.96 s, total: 16min 51s\n",
      "Wall time: 4min 35s\n"
     ]
    }
   ],
   "source": [
    "%%time\n",
    "tsne = TSNE(n_components=2, init='pca', random_state=42, n_jobs=-1, n_iter=250)\n",
    "quotes_2d_tsne = tsne.fit_transform(list(sample.QUOTE_VECTOR))"
   ]
  },
  {
   "cell_type": "code",
   "execution_count": 120,
   "metadata": {},
   "outputs": [
    {
     "data": {
      "image/png": "[encoded data removed]",
      "text/plain": [
       "<Figure size 1000x500 with 1 Axes>"
      ]
     },
     "metadata": {},
     "output_type": "display_data"
    }
   ],
   "source": [
    "plt.figure(figsize = (10, 5))\n",
    "plt.scatter(quotes_2d_tsne[:, 0], quotes_2d_tsne[:, 1], alpha=0.05)\n",
    "plt.xlabel('Признак 1')\n",
    "plt.ylabel('Признак 2')\n",
    "plt.title('Часть word2vec-векторов цитат, преобразованная методом t-SNE')\n",
    "plt.show()"
   ]
  },
  {
   "cell_type": "markdown",
   "metadata": {},
   "source": [
    "Похоже, что не очень хорошо. Если посмотреть, какие цитаты описаны каждой конкретной точкой (plolty-график, что расположен ниже, такой же, но при наведении курсора на отдельный элемент можно увидеть цитату, которую он описывает), можно сделать вывод, что похожие по смыслу цитаты действительно \"расположены\" близко друг к другу, однако для кластеризации такое представление скорее всего не подходит:"
   ]
  },
  {
   "cell_type": "code",
   "execution_count": 103,
   "metadata": {},
   "outputs": [],
   "source": [
    "# Делает однострочный текст многострочным для удобства.\n",
    "wrap_and_add_brs = lambda text: '<br>'.join(textwrap.wrap(text, width=70))"
   ]
  },
  {
   "cell_type": "code",
   "execution_count": 123,
   "metadata": {},
   "outputs": [],
   "source": [
    "fig = px.scatter(x = quotes_2d_tsne[:, 0], y = quotes_2d_tsne[:, 1],\n",
    "                 hover_data=[data.loc[sample.index].QUOTE.apply(wrap_and_add_brs)])\n",
    "\n",
    "\n",
    "fig.update_layout(\n",
    "    title = \"Часть word2vec-векторов цитат, преобразованная методом t-SNE\", \n",
    "    xaxis_title=\"Признак 1\",\n",
    "    yaxis_title=\"Признак 2\")\n",
    "\n",
    "None\n",
    "# fig.show()"
   ]
  },
  {
   "cell_type": "markdown",
   "metadata": {},
   "source": [
    "Поэтому воспользуемся LDA-моделью (методом латентного размещения Дирихле). Будем использовать мешок слов с количествами вхождений слов и их биграм:"
   ]
  },
  {
   "cell_type": "code",
   "execution_count": 95,
   "metadata": {},
   "outputs": [],
   "source": [
    "# снова, возьмём случайные 100000 цитат для экономии ресурсов компьютера и времени\n",
    "data_for_lda = data.sample(100000, random_state=42)"
   ]
  },
  {
   "cell_type": "markdown",
   "metadata": {},
   "source": [
    "Удалим короткие цитаты (меньше 20-ти слов), так как LDA-модель, как правило, показывает плохой результат при обучении на коротких текстах:"
   ]
  },
  {
   "cell_type": "code",
   "execution_count": 96,
   "metadata": {},
   "outputs": [
    {
     "data": {
      "text/plain": [
       "(81322, 4)"
      ]
     },
     "execution_count": 96,
     "metadata": {},
     "output_type": "execute_result"
    }
   ],
   "source": [
    "get_word_count = lambda quote: len(word_tokenize(quote))\n",
    "data_for_lda = data_for_lda[data_for_lda.QUOTE.apply(get_word_count) > 20]\n",
    "data_for_lda.shape"
   ]
  },
  {
   "cell_type": "code",
   "execution_count": 97,
   "metadata": {},
   "outputs": [],
   "source": [
    "count_vect = CountVectorizer(ngram_range=(1, 2))"
   ]
  },
  {
   "cell_type": "code",
   "execution_count": 98,
   "metadata": {},
   "outputs": [
    {
     "name": "stdout",
     "output_type": "stream",
     "text": [
      "CPU times: user 17.4 s, sys: 515 ms, total: 17.9 s\n",
      "Wall time: 18.2 s\n"
     ]
    }
   ],
   "source": [
    "%%time\n",
    "prepared_fit_quotes = data_for_lda.PREPARED_QUOTE\n",
    "quote_vectorized = count_vect.fit_transform(prepared_fit_quotes)\n",
    "corpus = gensim.matutils.Sparse2Corpus(quote_vectorized, documents_columns=False)\n",
    "id_map = {v: k for k, v in count_vect.vocabulary_.items()}"
   ]
  },
  {
   "cell_type": "markdown",
   "metadata": {},
   "source": [
    "Тренировка модели (число тем равно 30):"
   ]
  },
  {
   "cell_type": "code",
   "execution_count": 46,
   "metadata": {},
   "outputs": [
    {
     "name": "stdout",
     "output_type": "stream",
     "text": [
      "CPU times: user 39min 56s, sys: 1min 52s, total: 41min 48s\n",
      "Wall time: 32min 4s\n"
     ]
    }
   ],
   "source": [
    "%%time\n",
    "ldamodel = LdaModel(corpus=corpus, id2word=id_map, num_topics=30, \n",
    "                    passes=30, update_every=10, eval_every=50)"
   ]
  },
  {
   "cell_type": "code",
   "execution_count": 47,
   "metadata": {},
   "outputs": [
    {
     "name": "stdout",
     "output_type": "stream",
     "text": [
      "Описание тем (номер темы и наиболее \"важные\" для темы слова):\n",
      "\n",
      "Тема 0: 0.002*\"curran\" + 0.002*\"notic\" + 0.001*\"lamb\" + 0.001*\"trollop\" + 0.001*\"bran\" + 0.001*\"tyler\" + 0.001*\"get peopl\" + 0.001*\"velvet\" + 0.001*\"would tell\" + 0.001*\"val\" + 0.001*\"made look\" + 0.001*\"hand shoulder\" + 0.001*\"surpris said\" + 0.001*\"next five\" + 0.001*\"contemptu\"\n",
      "\n",
      "Тема 1: 0.001*\"receptor\" + 0.001*\"rogu\" + 0.001*\"percentag\" + 0.001*\"long hour\" + 0.001*\"first breath\" + 0.001*\"data bank\" + 0.001*\"better sens\" + 0.001*\"true would\" + 0.001*\"psychedel\" + 0.000*\"doubli\" + 0.000*\"drudgeri\" + 0.000*\"sens humour\" + 0.000*\"live moment\" + 0.000*\"rio\" + 0.000*\"radic chang\"\n",
      "\n",
      "Тема 2: 0.002*\"enslav\" + 0.001*\"lotti\" + 0.001*\"marriag\" + 0.001*\"fairi tale\" + 0.001*\"indistinguish\" + 0.001*\"ever find\" + 0.001*\"doughnut\" + 0.001*\"same\" + 0.001*\"eat disord\" + 0.001*\"sad thing\" + 0.001*\"predic\" + 0.001*\"look make\" + 0.001*\"ream\" + 0.001*\"marriag marriag\" + 0.001*\"prove us\"\n",
      "\n",
      "Тема 3: 0.001*\"long breath\" + 0.001*\"market research\" + 0.001*\"would hope\" + 0.001*\"death way\" + 0.001*\"great hous\" + 0.001*\"take eye\" + 0.001*\"life miser\" + 0.001*\"ash dagger\" + 0.001*\"chesterton\" + 0.001*\"amazingli\" + 0.001*\"kind would\" + 0.000*\"peopl consid\" + 0.000*\"knew everi\" + 0.000*\"tell good\" + 0.000*\"cost everyth\"\n",
      "\n",
      "Тема 4: 0.001*\"soul mate\" + 0.001*\"mate\" + 0.001*\"pal\" + 0.001*\"soul\" + 0.001*\"true soul\" + 0.001*\"smile look\" + 0.001*\"probabl import\" + 0.001*\"rapist\" + 0.001*\"anoth layer\" + 0.001*\"rest day\" + 0.001*\"ebb\" + 0.001*\"europa\" + 0.001*\"grain grain\" + 0.001*\"far beyond\" + 0.001*\"unshak\"\n",
      "\n",
      "Тема 5: 0.002*\"tyrion\" + 0.001*\"joffrey\" + 0.001*\"ye ye\" + 0.001*\"know life\" + 0.001*\"like find\" + 0.001*\"ban\" + 0.001*\"discount\" + 0.001*\"librarian\" + 0.001*\"meltdown\" + 0.001*\"alway find\" + 0.001*\"orbit\" + 0.001*\"pulpit\" + 0.001*\"sometim fall\" + 0.000*\"breckenridg\" + 0.000*\"starch\"\n",
      "\n",
      "Тема 6: 0.005*\"thou\" + 0.004*\"thi\" + 0.003*\"thee\" + 0.003*\"fart\" + 0.001*\"thou art\" + 0.001*\"thine\" + 0.001*\"mitchel\" + 0.001*\"other live\" + 0.001*\"linear\" + 0.001*\"downstair\" + 0.001*\"go touch\" + 0.001*\"durabl\" + 0.000*\"rememb peopl\" + 0.000*\"abl go\" + 0.000*\"encrypt\"\n",
      "\n",
      "Тема 7: 0.003*\"layer\" + 0.002*\"comput\" + 0.002*\"cup\" + 0.002*\"chocol\" + 0.001*\"bowl\" + 0.001*\"cream\" + 0.001*\"pan\" + 0.001*\"spoon\" + 0.001*\"egg\" + 0.001*\"plate\" + 0.001*\"soup\" + 0.001*\"butter\" + 0.001*\"madison\" + 0.001*\"bake\" + 0.001*\"sugar\"\n",
      "\n",
      "Тема 8: 0.002*\"lymond\" + 0.001*\"shorti\" + 0.001*\"franni\" + 0.001*\"better way\" + 0.001*\"mind thing\" + 0.001*\"deplor\" + 0.001*\"crick\" + 0.001*\"cassandra\" + 0.001*\"tina\" + 0.001*\"drizzt\" + 0.001*\"tri someth\" + 0.001*\"clearer\" + 0.001*\"exagger say\" + 0.001*\"maggi\" + 0.001*\"yeah like\"\n",
      "\n",
      "Тема 9: 0.002*\"agenc\" + 0.001*\"proust\" + 0.001*\"detect agenc\" + 0.001*\"two substanc\" + 0.001*\"life someon\" + 0.001*\"unintent\" + 0.001*\"right top\" + 0.001*\"may see\" + 0.001*\"think everyon\" + 0.001*\"detect\" + 0.001*\"imposs go\" + 0.001*\"misconcept\" + 0.001*\"line two\" + 0.001*\"time attent\" + 0.001*\"cours action\"\n",
      "\n",
      "Тема 10: 0.002*\"ivan\" + 0.001*\"ebola\" + 0.001*\"white male\" + 0.001*\"nero\" + 0.001*\"sorcer\" + 0.001*\"unstabl\" + 0.001*\"dostoevski\" + 0.001*\"jericho\" + 0.001*\"policemen\" + 0.001*\"zair\" + 0.001*\"sphere\" + 0.001*\"fals posit\" + 0.001*\"ebola zair\" + 0.001*\"human\" + 0.001*\"buddha\"\n",
      "\n",
      "Тема 11: 0.002*\"mous\" + 0.001*\"careless\" + 0.001*\"use word\" + 0.001*\"life without\" + 0.001*\"sanction\" + 0.001*\"would ask\" + 0.001*\"readili\" + 0.001*\"bad dream\" + 0.001*\"curios\" + 0.001*\"magnet\" + 0.001*\"noth matter\" + 0.001*\"milki\" + 0.001*\"diana\" + 0.001*\"read book\" + 0.001*\"like real\"\n",
      "\n",
      "Тема 12: 0.002*\"cube\" + 0.001*\"said blind\" + 0.001*\"femal male\" + 0.001*\"futur would\" + 0.001*\"minor\" + 0.001*\"would chang\" + 0.001*\"someth matter\" + 0.001*\"even alway\" + 0.001*\"go understand\" + 0.001*\"persecut\" + 0.001*\"good world\" + 0.001*\"heart noth\" + 0.001*\"word terror\" + 0.001*\"use tell\" + 0.001*\"mentor\"\n",
      "\n",
      "Тема 13: 0.008*\"like\" + 0.006*\"would\" + 0.005*\"said\" + 0.005*\"thing\" + 0.005*\"know\" + 0.005*\"peopl\" + 0.005*\"time\" + 0.005*\"love\" + 0.005*\"life\" + 0.005*\"could\" + 0.004*\"make\" + 0.004*\"go\" + 0.004*\"think\" + 0.004*\"us\" + 0.004*\"look\"\n",
      "\n",
      "Тема 14: 0.002*\"alan\" + 0.001*\"reckless\" + 0.001*\"tidi\" + 0.001*\"thing chang\" + 0.001*\"vault\" + 0.001*\"sure could\" + 0.001*\"legislatur\" + 0.001*\"amygdala\" + 0.001*\"tavern\" + 0.001*\"quantum\" + 0.001*\"think lot\" + 0.001*\"come along\" + 0.001*\"cadav\" + 0.001*\"exce\" + 0.001*\"broken window\"\n",
      "\n",
      "Тема 15: 0.001*\"extravag\" + 0.001*\"unliv\" + 0.001*\"differenti\" + 0.001*\"jacqu\" + 0.001*\"nonviol\" + 0.001*\"cleric\" + 0.001*\"fear live\" + 0.001*\"life purpos\" + 0.001*\"get work\" + 0.001*\"god say\" + 0.001*\"hard day\" + 0.001*\"matter look\" + 0.001*\"fee\" + 0.001*\"much life\" + 0.001*\"god play\"\n",
      "\n",
      "Тема 16: 0.001*\"matter mani\" + 0.001*\"faeri\" + 0.001*\"quo\" + 0.001*\"statu quo\" + 0.001*\"happi happi\" + 0.001*\"tamlin\" + 0.001*\"bodili\" + 0.001*\"hiv\" + 0.001*\"world need\" + 0.001*\"feel pain\" + 0.001*\"pilot\" + 0.001*\"differ place\" + 0.001*\"world ever\" + 0.001*\"posit\" + 0.001*\"grid\"\n",
      "\n",
      "Тема 17: 0.001*\"snuggl\" + 0.001*\"davidson\" + 0.001*\"pm\" + 0.001*\"cub\" + 0.001*\"human intellect\" + 0.001*\"nobel peac\" + 0.001*\"peac prize\" + 0.001*\"cub scout\" + 0.001*\"someon make\" + 0.001*\"favorit book\" + 0.000*\"erudit\" + 0.000*\"protect us\" + 0.000*\"mother natur\" + 0.000*\"everi aspect\" + 0.000*\"damn good\"\n",
      "\n",
      "Тема 18: 0.001*\"fiesta\" + 0.001*\"kiara\" + 0.001*\"duchess\" + 0.001*\"round corner\" + 0.001*\"away without\" + 0.001*\"imagin live\" + 0.001*\"samuel\" + 0.001*\"almost quit\" + 0.001*\"jessi\" + 0.001*\"walk mile\" + 0.001*\"mind would\" + 0.001*\"sodium\" + 0.000*\"said duchess\" + 0.000*\"kemal\" + 0.000*\"mile shoe\"\n",
      "\n",
      "Тема 19: 0.001*\"max\" + 0.001*\"lord\" + 0.001*\"troll\" + 0.001*\"grace god\" + 0.001*\"goddam\" + 0.001*\"hazard\" + 0.001*\"annabel\" + 0.001*\"go miss\" + 0.001*\"alway feel\" + 0.001*\"like would\" + 0.001*\"said old\" + 0.001*\"piggi\" + 0.001*\"trunk\" + 0.001*\"smile said\" + 0.001*\"tipto\"\n",
      "\n",
      "Тема 20: 0.002*\"alcohol\" + 0.001*\"abyss\" + 0.001*\"bessi\" + 0.001*\"smell like\" + 0.001*\"came without\" + 0.001*\"someplac\" + 0.001*\"goddard\" + 0.001*\"asshol\" + 0.001*\"let make\" + 0.001*\"clung\" + 0.001*\"look backward\" + 0.001*\"layer\" + 0.001*\"slain\" + 0.001*\"almost like\" + 0.001*\"like long\"\n",
      "\n",
      "Тема 21: 0.001*\"cowardic\" + 0.001*\"instructor\" + 0.001*\"tell god\" + 0.001*\"power live\" + 0.001*\"person everi\" + 0.001*\"matter fact\" + 0.001*\"sherman\" + 0.001*\"night let\" + 0.001*\"take away\" + 0.001*\"visionari\" + 0.000*\"past like\" + 0.000*\"metr\" + 0.000*\"way made\" + 0.000*\"azur\" + 0.000*\"marshal\"\n",
      "\n",
      "Тема 22: 0.001*\"keeper\" + 0.001*\"salami\" + 0.001*\"mac\" + 0.001*\"choo\" + 0.001*\"gear\" + 0.001*\"gloria\" + 0.001*\"enough know\" + 0.001*\"amount time\" + 0.001*\"chess\" + 0.001*\"tar\" + 0.001*\"agenda\" + 0.001*\"get hurt\" + 0.001*\"would understand\" + 0.001*\"masterpiec\" + 0.001*\"mind state\"\n",
      "\n",
      "Тема 23: 0.001*\"craftsmanship\" + 0.001*\"went sleep\" + 0.001*\"lannist\" + 0.001*\"22\" + 0.001*\"could wish\" + 0.001*\"soon soon\" + 0.001*\"sky god\" + 0.001*\"find good\" + 0.001*\"mediev\" + 0.001*\"day first\" + 0.001*\"chronic stress\" + 0.001*\"turk\" + 0.001*\"builder\" + 0.001*\"programm\" + 0.001*\"even import\"\n",
      "\n",
      "Тема 24: 0.005*\"hunter\" + 0.004*\"loretta\" + 0.001*\"ami\" + 0.001*\"introvert\" + 0.001*\"antelop\" + 0.001*\"aelin\" + 0.001*\"swift antelop\" + 0.001*\"swift\" + 0.001*\"lyra\" + 0.001*\"carri away\" + 0.001*\"simi\" + 0.001*\"comanch\" + 0.001*\"chief\" + 0.001*\"wide open\" + 0.001*\"eye wide\"\n",
      "\n",
      "Тема 25: 0.001*\"phillip\" + 0.001*\"sure know\" + 0.001*\"primarili\" + 0.001*\"matthew\" + 0.001*\"like much\" + 0.001*\"faeri\" + 0.001*\"cuddl\" + 0.001*\"net\" + 0.001*\"life seem\" + 0.001*\"singl day\" + 0.001*\"butcher\" + 0.001*\"gruber\" + 0.001*\"learn learn\" + 0.001*\"occup\" + 0.001*\"intersect\"\n",
      "\n",
      "Тема 26: 0.001*\"creed\" + 0.001*\"around earth\" + 0.001*\"forev could\" + 0.001*\"even tini\" + 0.001*\"mitch\" + 0.001*\"firsthand\" + 0.000*\"surpass\" + 0.000*\"easi get\" + 0.000*\"feder reserv\" + 0.000*\"would possibl\" + 0.000*\"galileo\" + 0.000*\"someth big\" + 0.000*\"stop tri\" + 0.000*\"see matter\" + 0.000*\"place said\"\n",
      "\n",
      "Тема 27: 0.001*\"feebl\" + 0.001*\"unrel\" + 0.001*\"impot\" + 0.001*\"analyz\" + 0.001*\"feel sens\" + 0.001*\"use think\" + 0.001*\"millennium\" + 0.001*\"granni\" + 0.001*\"two side\" + 0.001*\"find true\" + 0.001*\"virtuou\" + 0.001*\"harriet\" + 0.001*\"hamlet\" + 0.001*\"balconi\" + 0.001*\"better yet\"\n",
      "\n",
      "Тема 28: 0.009*\"said\" + 0.004*\"lili\" + 0.002*\"caleb\" + 0.002*\"alic\" + 0.002*\"valeri\" + 0.001*\"oh\" + 0.001*\"stephen\" + 0.001*\"jace\" + 0.001*\"shane\" + 0.001*\"nick\" + 0.001*\"michael\" + 0.001*\"fred\" + 0.001*\"day long\" + 0.001*\"know realli\" + 0.001*\"know make\"\n",
      "\n",
      "Тема 29: 0.001*\"never see\" + 0.001*\"trillion\" + 0.001*\"obama\" + 0.001*\"luci\" + 0.001*\"waiter\" + 0.001*\"live love\" + 0.001*\"someth like\" + 0.001*\"time need\" + 0.001*\"mustard\" + 0.001*\"ask way\" + 0.001*\"god god\" + 0.001*\"peopl seem\" + 0.001*\"must never\" + 0.001*\"peopl never\" + 0.001*\"make money\"\n",
      "\n"
     ]
    }
   ],
   "source": [
    "top15_words = ldamodel.print_topics(num_topics=30, num_words=15)\n",
    "print('Описание тем (номер темы и наиболее \"важные\" для темы слова):\\n')\n",
    "for n_topic, top_words in top15_words:\n",
    "    print(f'Тема {n_topic}: {top_words}')\n",
    "    print()"
   ]
  },
  {
   "cell_type": "markdown",
   "metadata": {},
   "source": [
    "Похоже, что явно выделить темы, ориентируясь по наборам терминов, не получится.\n",
    "\n",
    "Попробуем конвертировать данные в формат таблицы, где строки описывают цитаты, а столбцы - распределения тем в цитатах, и сгенерировать на её основе синтетические признаки методом t-SNE:"
   ]
  },
  {
   "cell_type": "code",
   "execution_count": 99,
   "metadata": {},
   "outputs": [
    {
     "name": "stdout",
     "output_type": "stream",
     "text": [
      "CPU times: user 1min 25s, sys: 4.08 s, total: 1min 29s\n",
      "Wall time: 1min\n"
     ]
    },
    {
     "data": {
      "text/plain": [
       "matrix([[0.        , 0.        , 0.        , 0.        , 0.        ,\n",
       "         0.        , 0.        , 0.        , 0.        , 0.        ,\n",
       "         0.        , 0.        , 0.        , 0.60392725, 0.        ,\n",
       "         0.        , 0.        , 0.        , 0.        , 0.        ,\n",
       "         0.        , 0.        , 0.34910011, 0.        , 0.        ,\n",
       "         0.        , 0.        , 0.        , 0.        , 0.        ],\n",
       "        [0.        , 0.        , 0.        , 0.        , 0.        ,\n",
       "         0.        , 0.        , 0.        , 0.        , 0.        ,\n",
       "         0.        , 0.        , 0.        , 0.90910143, 0.        ,\n",
       "         0.        , 0.        , 0.        , 0.        , 0.        ,\n",
       "         0.        , 0.        , 0.        , 0.        , 0.        ,\n",
       "         0.        , 0.        , 0.        , 0.        , 0.        ],\n",
       "        [0.        , 0.        , 0.        , 0.        , 0.        ,\n",
       "         0.        , 0.        , 0.        , 0.        , 0.        ,\n",
       "         0.        , 0.        , 0.        , 0.64133191, 0.31560946,\n",
       "         0.        , 0.        , 0.        , 0.        , 0.        ,\n",
       "         0.        , 0.        , 0.        , 0.        , 0.        ,\n",
       "         0.        , 0.        , 0.        , 0.        , 0.        ]])"
      ]
     },
     "execution_count": 99,
     "metadata": {},
     "output_type": "execute_result"
    }
   ],
   "source": [
    "%%time\n",
    "docs_x_topics = lil_matrix((81322, 30))\n",
    "topics_ns = []\n",
    "for doc_ind, doc in enumerate(corpus):\n",
    "    doc_topics = ldamodel.get_document_topics(doc)\n",
    "    topics_ns += [max(doc_topics, key=lambda pair: pair[1])[0]]\n",
    "    for n_topic, prob in doc_topics:\n",
    "        docs_x_topics[doc_ind, n_topic] = prob\n",
    "\n",
    "docs_x_topics[:3].todense()"
   ]
  },
  {
   "cell_type": "code",
   "execution_count": 100,
   "metadata": {},
   "outputs": [
    {
     "name": "stdout",
     "output_type": "stream",
     "text": [
      "CPU times: user 30min 55s, sys: 3min 14s, total: 34min 9s\n",
      "Wall time: 12min 41s\n"
     ]
    }
   ],
   "source": [
    "%%time\n",
    "tsne = TSNE(n_components=2, random_state=42, n_jobs=-1, n_iter=250)\n",
    "dt_2d_tsne = tsne.fit_transform(docs_x_topics)"
   ]
  },
  {
   "cell_type": "code",
   "execution_count": 101,
   "metadata": {},
   "outputs": [
    {
     "data": {
      "image/png": "[encoded data removed]",
      "text/plain": [
       "<Figure size 1000x500 with 1 Axes>"
      ]
     },
     "metadata": {},
     "output_type": "display_data"
    }
   ],
   "source": [
    "plt.figure(figsize = (10, 5))\n",
    "plt.scatter(dt_2d_tsne[:30000, 0], dt_2d_tsne[:30000, 1], alpha=0.05)\n",
    "plt.xlabel('Признак 1')\n",
    "plt.ylabel('Признак 2')\n",
    "plt.title('Распределения тем для части текстов, преобразованные методом t-SNE (LDA-модель)')\n",
    "plt.show()"
   ]
  },
  {
   "cell_type": "markdown",
   "metadata": {},
   "source": [
    "Видно, что объекты уже проще разделить. Plotly-график с отображением содержания цитат при наведении курсора:"
   ]
  },
  {
   "cell_type": "code",
   "execution_count": 108,
   "metadata": {
    "scrolled": false
   },
   "outputs": [],
   "source": [
    "fig = px.scatter(x = dt_2d_tsne[:30000, 0], y = dt_2d_tsne[:30000, 1], \n",
    "                 color=list(map(lambda el: f'Тема {el}', topics_ns[:30000])), \n",
    "                 hover_data=[data_for_lda.QUOTE[:30000].apply(wrap_and_add_brs)])\n",
    "\n",
    "\n",
    "fig.update_layout(\n",
    "    title = \"Распределения тем для части текстов, преобразованные методом t-SNE (LDA-модель)\", \n",
    "    xaxis_title=\"Признак 1\",\n",
    "    yaxis_title=\"Признак 2\")\n",
    "fig.write_image(f'Distributions of topics (t-SNE, LDA) rus.png', width=1200, height=800)\n",
    "# fig.show()"
   ]
  },
  {
   "cell_type": "markdown",
   "metadata": {},
   "source": [
    "Однако, даже при таком представлении нельзя сказать, что кластеризация проходит хорошо (возможно, здесь поможет увеличение количества итераций при обучении модели, но это займёт очень много времени).\n",
    "\n",
    "Сохраним модель:"
   ]
  },
  {
   "cell_type": "code",
   "execution_count": 52,
   "metadata": {},
   "outputs": [],
   "source": [
    "# сохранение в файл\n",
    "ldamodel.save('lda_model.gs')"
   ]
  },
  {
   "cell_type": "code",
   "execution_count": 94,
   "metadata": {},
   "outputs": [],
   "source": [
    "# подгрузка из файла\n",
    "ldamodel = LdaModel.load('lda_model.gs')"
   ]
  },
  {
   "cell_type": "markdown",
   "metadata": {},
   "source": [
    "Попробуем другой тип модели. Прочитать о нём можно здесь: https://towardsdatascience.com/short-text-topic-modeling-70e50a57c883\n",
    "\n",
    "В данном случае каждая цитата будет рассматриваться как текст, принадлежащий только одной теме, а не к нескольким сразу. Такой приём лучше подходит для коротких текстов."
   ]
  },
  {
   "cell_type": "code",
   "execution_count": 35,
   "metadata": {},
   "outputs": [
    {
     "name": "stdout",
     "output_type": "stream",
     "text": [
      "Cloning into 'gsdmm'...\n",
      "remote: Enumerating objects: 50, done.\u001b[K\n",
      "remote: Total 50 (delta 0), reused 0 (delta 0), pack-reused 50\u001b[K\n",
      "Unpacking objects: 100% (50/50), 11.20 KiB | 272.00 KiB/s, done.\n"
     ]
    }
   ],
   "source": [
    "!git clone https://github.com/rwalk/gsdmm.git"
   ]
  },
  {
   "cell_type": "code",
   "execution_count": 9,
   "metadata": {},
   "outputs": [],
   "source": [
    "from gsdmm.gsdmm.mgp import MovieGroupProcess"
   ]
  },
  {
   "cell_type": "markdown",
   "metadata": {},
   "source": [
    "Возьмём те же данные, но на этот раз не будем удалять короткие цитаты:"
   ]
  },
  {
   "cell_type": "code",
   "execution_count": 75,
   "metadata": {},
   "outputs": [],
   "source": [
    "data_for_mgp = data.sample(100000, random_state=42)"
   ]
  },
  {
   "cell_type": "code",
   "execution_count": 76,
   "metadata": {},
   "outputs": [],
   "source": [
    "get_first_2_sents = lambda quote: ' '.join(sent_tokenize(quote)[:3])\n",
    "data_for_mgp['PREPARED_QUOTE'] = data_for_mgp.PREPARED_QUOTE.apply(get_first_2_sents)"
   ]
  },
  {
   "cell_type": "markdown",
   "metadata": {},
   "source": [
    "Подготовим цитаты:"
   ]
  },
  {
   "cell_type": "code",
   "execution_count": 77,
   "metadata": {},
   "outputs": [
    {
     "data": {
      "text/plain": [
       "['taught',\n",
       " 'act',\n",
       " 'like',\n",
       " 'someth',\n",
       " 'work',\n",
       " 'told',\n",
       " 'pretend',\n",
       " 'complet',\n",
       " 'control',\n",
       " 'peopl']"
      ]
     },
     "execution_count": 77,
     "metadata": {},
     "output_type": "execute_result"
    }
   ],
   "source": [
    "docs = data_for_mgp.PREPARED_QUOTE.str.replace('.', '').str.split().tolist()\n",
    "docs[0]"
   ]
  },
  {
   "cell_type": "code",
   "execution_count": 78,
   "metadata": {},
   "outputs": [
    {
     "data": {
      "text/plain": [
       "['taught act',\n",
       " 'act like',\n",
       " 'like someth',\n",
       " 'someth work',\n",
       " 'work told',\n",
       " 'told pretend',\n",
       " 'pretend complet',\n",
       " 'complet control',\n",
       " 'control peopl']"
      ]
     },
     "execution_count": 78,
     "metadata": {},
     "output_type": "execute_result"
    }
   ],
   "source": [
    "def make_bigrams(list_of_words):\n",
    "    '''Генерация биграм на основе текста.'''\n",
    "    a, b = tee(list_of_words)\n",
    "    next(b, None)\n",
    "    return [' '.join(pair) for pair in zip(a, b)]\n",
    "\n",
    "make_bigrams(docs[0])"
   ]
  },
  {
   "cell_type": "code",
   "execution_count": 79,
   "metadata": {},
   "outputs": [],
   "source": [
    "docs = [doc + make_bigrams(doc) for doc in docs]"
   ]
  },
  {
   "cell_type": "code",
   "execution_count": 80,
   "metadata": {},
   "outputs": [],
   "source": [
    "vocab = set(word for doc in docs for word in doc)\n",
    "n_terms = len(vocab)"
   ]
  },
  {
   "cell_type": "markdown",
   "metadata": {},
   "source": [
    "Тренировка модели (30 тем):"
   ]
  },
  {
   "cell_type": "code",
   "execution_count": 81,
   "metadata": {},
   "outputs": [
    {
     "name": "stdout",
     "output_type": "stream",
     "text": [
      "In stage 0: transferred 86795 clusters with 30 clusters populated\n",
      "In stage 1: transferred 52667 clusters with 30 clusters populated\n",
      "In stage 2: transferred 42650 clusters with 30 clusters populated\n",
      "In stage 3: transferred 32963 clusters with 30 clusters populated\n",
      "In stage 4: transferred 25219 clusters with 30 clusters populated\n",
      "In stage 5: transferred 20613 clusters with 30 clusters populated\n",
      "In stage 6: transferred 18426 clusters with 30 clusters populated\n",
      "In stage 7: transferred 16612 clusters with 30 clusters populated\n",
      "In stage 8: transferred 15804 clusters with 30 clusters populated\n",
      "In stage 9: transferred 15079 clusters with 30 clusters populated\n",
      "CPU times: user 52min 45s, sys: 1.32 s, total: 52min 46s\n",
      "Wall time: 52min 52s\n"
     ]
    }
   ],
   "source": [
    "%%time\n",
    "mgpmodel = MovieGroupProcess(K=30, alpha=0.1, beta=0.07, n_iters=10)\n",
    "mgp_results = np.array(mgpmodel.fit(docs, n_terms))"
   ]
  },
  {
   "cell_type": "code",
   "execution_count": 82,
   "metadata": {},
   "outputs": [
    {
     "name": "stdout",
     "output_type": "stream",
     "text": [
      "Количество документов на каждую тему:\n"
     ]
    },
    {
     "data": {
      "text/html": [
       "<div>\n",
       "<style scoped>\n",
       "    .dataframe tbody tr th:only-of-type {\n",
       "        vertical-align: middle;\n",
       "    }\n",
       "\n",
       "    .dataframe tbody tr th {\n",
       "        vertical-align: top;\n",
       "    }\n",
       "\n",
       "    .dataframe thead th {\n",
       "        text-align: right;\n",
       "    }\n",
       "</style>\n",
       "<table border=\"1\" class=\"dataframe\">\n",
       "  <thead>\n",
       "    <tr style=\"text-align: right;\">\n",
       "      <th></th>\n",
       "      <th>Тема</th>\n",
       "      <th>Количество документов</th>\n",
       "    </tr>\n",
       "  </thead>\n",
       "  <tbody>\n",
       "    <tr>\n",
       "      <th>0</th>\n",
       "      <td>0</td>\n",
       "      <td>3834</td>\n",
       "    </tr>\n",
       "    <tr>\n",
       "      <th>1</th>\n",
       "      <td>1</td>\n",
       "      <td>7098</td>\n",
       "    </tr>\n",
       "    <tr>\n",
       "      <th>2</th>\n",
       "      <td>2</td>\n",
       "      <td>4304</td>\n",
       "    </tr>\n",
       "    <tr>\n",
       "      <th>3</th>\n",
       "      <td>3</td>\n",
       "      <td>2381</td>\n",
       "    </tr>\n",
       "    <tr>\n",
       "      <th>4</th>\n",
       "      <td>4</td>\n",
       "      <td>69</td>\n",
       "    </tr>\n",
       "    <tr>\n",
       "      <th>5</th>\n",
       "      <td>5</td>\n",
       "      <td>36</td>\n",
       "    </tr>\n",
       "    <tr>\n",
       "      <th>6</th>\n",
       "      <td>6</td>\n",
       "      <td>3658</td>\n",
       "    </tr>\n",
       "    <tr>\n",
       "      <th>7</th>\n",
       "      <td>7</td>\n",
       "      <td>31</td>\n",
       "    </tr>\n",
       "    <tr>\n",
       "      <th>8</th>\n",
       "      <td>8</td>\n",
       "      <td>7777</td>\n",
       "    </tr>\n",
       "    <tr>\n",
       "      <th>9</th>\n",
       "      <td>9</td>\n",
       "      <td>5950</td>\n",
       "    </tr>\n",
       "    <tr>\n",
       "      <th>10</th>\n",
       "      <td>10</td>\n",
       "      <td>53</td>\n",
       "    </tr>\n",
       "    <tr>\n",
       "      <th>11</th>\n",
       "      <td>11</td>\n",
       "      <td>60</td>\n",
       "    </tr>\n",
       "    <tr>\n",
       "      <th>12</th>\n",
       "      <td>12</td>\n",
       "      <td>50</td>\n",
       "    </tr>\n",
       "    <tr>\n",
       "      <th>13</th>\n",
       "      <td>13</td>\n",
       "      <td>11005</td>\n",
       "    </tr>\n",
       "    <tr>\n",
       "      <th>14</th>\n",
       "      <td>14</td>\n",
       "      <td>51</td>\n",
       "    </tr>\n",
       "    <tr>\n",
       "      <th>15</th>\n",
       "      <td>15</td>\n",
       "      <td>45</td>\n",
       "    </tr>\n",
       "    <tr>\n",
       "      <th>16</th>\n",
       "      <td>16</td>\n",
       "      <td>63</td>\n",
       "    </tr>\n",
       "    <tr>\n",
       "      <th>17</th>\n",
       "      <td>17</td>\n",
       "      <td>5496</td>\n",
       "    </tr>\n",
       "    <tr>\n",
       "      <th>18</th>\n",
       "      <td>18</td>\n",
       "      <td>38</td>\n",
       "    </tr>\n",
       "    <tr>\n",
       "      <th>19</th>\n",
       "      <td>19</td>\n",
       "      <td>69</td>\n",
       "    </tr>\n",
       "    <tr>\n",
       "      <th>20</th>\n",
       "      <td>20</td>\n",
       "      <td>2544</td>\n",
       "    </tr>\n",
       "    <tr>\n",
       "      <th>21</th>\n",
       "      <td>21</td>\n",
       "      <td>4664</td>\n",
       "    </tr>\n",
       "    <tr>\n",
       "      <th>22</th>\n",
       "      <td>22</td>\n",
       "      <td>2265</td>\n",
       "    </tr>\n",
       "    <tr>\n",
       "      <th>23</th>\n",
       "      <td>23</td>\n",
       "      <td>78</td>\n",
       "    </tr>\n",
       "    <tr>\n",
       "      <th>24</th>\n",
       "      <td>24</td>\n",
       "      <td>13592</td>\n",
       "    </tr>\n",
       "    <tr>\n",
       "      <th>25</th>\n",
       "      <td>25</td>\n",
       "      <td>11281</td>\n",
       "    </tr>\n",
       "    <tr>\n",
       "      <th>26</th>\n",
       "      <td>26</td>\n",
       "      <td>52</td>\n",
       "    </tr>\n",
       "    <tr>\n",
       "      <th>27</th>\n",
       "      <td>27</td>\n",
       "      <td>46</td>\n",
       "    </tr>\n",
       "    <tr>\n",
       "      <th>28</th>\n",
       "      <td>28</td>\n",
       "      <td>3986</td>\n",
       "    </tr>\n",
       "    <tr>\n",
       "      <th>29</th>\n",
       "      <td>29</td>\n",
       "      <td>9424</td>\n",
       "    </tr>\n",
       "  </tbody>\n",
       "</table>\n",
       "</div>"
      ],
      "text/plain": [
       "    Тема  Количество документов\n",
       "0      0                   3834\n",
       "1      1                   7098\n",
       "2      2                   4304\n",
       "3      3                   2381\n",
       "4      4                     69\n",
       "5      5                     36\n",
       "6      6                   3658\n",
       "7      7                     31\n",
       "8      8                   7777\n",
       "9      9                   5950\n",
       "10    10                     53\n",
       "11    11                     60\n",
       "12    12                     50\n",
       "13    13                  11005\n",
       "14    14                     51\n",
       "15    15                     45\n",
       "16    16                     63\n",
       "17    17                   5496\n",
       "18    18                     38\n",
       "19    19                     69\n",
       "20    20                   2544\n",
       "21    21                   4664\n",
       "22    22                   2265\n",
       "23    23                     78\n",
       "24    24                  13592\n",
       "25    25                  11281\n",
       "26    26                     52\n",
       "27    27                     46\n",
       "28    28                   3986\n",
       "29    29                   9424"
      ]
     },
     "metadata": {},
     "output_type": "display_data"
    },
    {
     "name": "stdout",
     "output_type": "stream",
     "text": [
      "Топ тем по количеству документов: [24 25 13 29  8  1  9 17 21  2 28  0  6 20  3 22 23 19  4 16 11 10 26 14\n",
      " 12 27 15 18  5  7]\n"
     ]
    }
   ],
   "source": [
    "doc_count = np.array(mgpmodel.cluster_doc_count)\n",
    "print('Количество документов на каждую тему:')\n",
    "display(pd.DataFrame(list(enumerate(doc_count)), columns=['Тема', 'Количество документов']))\n",
    "\n",
    "top_index = doc_count.argsort()[::-1]\n",
    "print('Топ тем по количеству документов:', top_index)"
   ]
  },
  {
   "cell_type": "code",
   "execution_count": 83,
   "metadata": {},
   "outputs": [],
   "source": [
    "def top_words(distributions, indexes, n_words):\n",
    "    '''Выводит описание тем.'''\n",
    "    for index in indexes:\n",
    "        top_words = sorted(list(distributions[index].items()), \n",
    "                           key=lambda dist: dist[1], \n",
    "                           reverse=True)[:n_words]\n",
    "        print(f'Тема {index}: {top_words}\\n')"
   ]
  },
  {
   "cell_type": "code",
   "execution_count": 84,
   "metadata": {},
   "outputs": [
    {
     "name": "stdout",
     "output_type": "stream",
     "text": [
      "Описание тем (номер темы и наиболее \"важные\" для темы слова):\n",
      "\n",
      "Тема 24: [('peopl', 3077), ('thing', 2888), ('like', 2211), ('make', 1943), ('get', 1721), ('think', 1702), ('life', 1613), ('know', 1594), ('time', 1386), ('love', 1352), ('way', 1343), ('feel', 1303), ('go', 1297), ('say', 1229), ('good', 1195)]\n",
      "\n",
      "Тема 25: [('like', 2091), ('would', 1771), ('time', 1716), ('could', 1666), ('go', 1525), ('look', 1404), ('love', 1326), ('life', 1236), ('never', 1191), ('know', 1149), ('see', 1146), ('day', 1075), ('said', 1001), ('thing', 959), ('world', 941)]\n",
      "\n",
      "Тема 13: [('know', 2281), ('love', 1820), ('life', 1383), ('thing', 1378), ('never', 1276), ('would', 1235), ('said', 1193), ('think', 1158), ('live', 1102), ('peopl', 998), ('say', 960), ('us', 929), ('someth', 854), ('could', 838), ('alway', 731)]\n",
      "\n",
      "Тема 29: [('like', 2186), ('would', 2151), ('time', 1764), ('peopl', 1600), ('could', 1431), ('life', 1412), ('world', 1362), ('thing', 1265), ('even', 1212), ('make', 1193), ('us', 1170), ('live', 1132), ('way', 1109), ('love', 1106), ('never', 926)]\n",
      "\n",
      "Тема 8: [('god', 2259), ('love', 1839), ('us', 1516), ('life', 1055), ('live', 839), ('peopl', 685), ('human', 652), ('world', 651), ('thing', 628), ('good', 578), ('make', 551), ('power', 509), ('need', 509), ('must', 488), ('know', 467)]\n",
      "\n",
      "Тема 1: [('said', 2644), ('like', 998), ('look', 731), ('go', 658), ('ask', 598), ('get', 546), ('know', 518), ('say', 459), ('think', 448), ('got', 425), ('would', 419), ('back', 384), ('head', 365), ('ye', 343), ('right', 326)]\n",
      "\n",
      "Тема 9: [('like', 1115), ('eye', 826), ('hand', 787), ('back', 633), ('look', 623), ('said', 469), ('could', 464), ('head', 463), ('around', 395), ('would', 371), ('arm', 346), ('turn', 316), ('hair', 293), ('open', 290), ('away', 287)]\n",
      "\n",
      "Тема 17: [('peopl', 779), ('make', 457), ('person', 445), ('way', 371), ('work', 361), ('world', 332), ('life', 297), ('use', 296), ('like', 293), ('becom', 292), ('human', 290), ('power', 281), ('thing', 263), ('social', 261), ('other', 254)]\n",
      "\n",
      "Тема 21: [('book', 811), ('like', 667), ('read', 623), ('said', 585), ('would', 414), ('time', 324), ('thing', 315), ('word', 314), ('know', 291), ('write', 275), ('could', 273), ('year', 260), ('life', 259), ('never', 255), ('say', 255)]\n",
      "\n",
      "Тема 2: [('human', 543), ('life', 468), ('world', 396), ('time', 380), ('us', 348), ('mind', 267), ('live', 254), ('thing', 242), ('natur', 230), ('like', 222), ('feel', 220), ('everi', 218), ('becom', 204), ('even', 200), ('past', 195)]\n",
      "\n",
      "Тема 28: [('like', 464), ('heart', 287), ('life', 286), ('god', 284), ('love', 276), ('us', 246), ('world', 240), ('live', 226), ('earth', 226), ('may', 209), ('time', 203), ('dark', 196), ('shall', 183), ('said', 174), ('death', 168)]\n",
      "\n",
      "Тема 0: [('would', 364), ('peopl', 364), ('american', 332), ('new', 325), ('state', 293), ('world', 277), ('like', 241), ('white', 222), ('nation', 214), ('countri', 213), ('time', 204), ('could', 199), ('year', 193), ('mani', 193), ('first', 186)]\n",
      "\n",
      "Тема 6: [('like', 282), ('life', 271), ('would', 263), ('peopl', 260), ('thing', 236), ('good', 216), ('time', 209), ('said', 204), ('way', 201), ('work', 189), ('say', 188), ('person', 175), ('word', 172), ('make', 171), ('even', 165)]\n",
      "\n",
      "Тема 20: [('like', 482), ('light', 253), ('sky', 212), ('night', 199), ('dark', 171), ('sun', 166), ('look', 159), ('day', 151), ('star', 148), ('tree', 139), ('white', 134), ('world', 132), ('see', 130), ('black', 121), ('long', 119)]\n",
      "\n",
      "Тема 3: [('like', 227), ('would', 169), ('girl', 147), ('even', 146), ('know', 123), ('time', 119), ('said', 111), ('get', 111), ('first', 106), ('could', 105), ('love', 103), ('look', 102), ('alway', 101), ('day', 99), ('peopl', 96)]\n",
      "\n",
      "Тема 22: [('year', 267), ('peopl', 218), ('time', 196), ('like', 193), ('would', 164), ('work', 131), ('food', 126), ('percent', 122), ('everi', 120), ('make', 120), ('million', 112), ('use', 111), ('human', 110), ('world', 107), ('even', 107)]\n",
      "\n",
      "Тема 23: [('us', 18), ('learn', 15), ('would', 13), ('thing', 12), ('away', 10), ('human', 10), ('never', 9), ('peopl', 9), ('believ', 9), ('woman', 9), ('insid', 9), ('get', 8), ('feel', 8), ('first', 8), ('way', 8)]\n",
      "\n",
      "Тема 19: [('life', 15), ('peopl', 10), ('like', 9), ('look', 9), ('yet', 9), ('would', 9), ('fear', 9), ('said', 8), ('frame', 8), ('way', 7), ('somewher', 7), ('made', 7), ('live', 7), ('noth', 7), ('motion', 6)]\n",
      "\n",
      "Тема 4: [('dark', 14), ('human', 12), ('control', 10), ('would', 9), ('random', 9), ('need', 9), ('said', 8), ('make', 8), ('connect', 8), ('peopl', 7), ('even', 7), ('stori', 7), ('work', 7), ('know', 7), ('gener', 7)]\n",
      "\n",
      "Тема 16: [('bodi', 13), ('live', 13), ('thing', 12), ('life', 10), ('black', 9), ('think', 9), ('citi', 9), ('america', 9), ('black bodi', 9), ('understand', 8), ('call', 8), ('mayb', 8), ('say', 8), ('okay', 8), ('know', 7)]\n",
      "\n",
      "Тема 11: [('give', 15), ('life', 13), ('time', 12), ('live', 12), ('come', 10), ('done', 9), ('much', 9), ('better', 9), ('god', 8), ('soul', 8), ('sleep', 8), ('us', 7), ('keep', 7), ('back', 7), ('artist', 7)]\n",
      "\n",
      "Тема 10: [('peopl', 17), ('like', 16), ('see', 10), ('life', 9), ('ever', 9), ('right', 8), ('fact', 8), ('thing', 7), ('two', 6), ('could', 6), ('time', 6), ('day', 6), ('sometim', 6), ('person', 6), ('truth', 6)]\n",
      "\n",
      "Тема 26: [('adult', 14), ('happi', 13), ('like', 12), ('see', 10), ('us', 10), ('time', 9), ('know', 8), ('woman', 8), ('life', 7), ('never', 7), ('power', 6), ('evil', 6), ('thing', 5), ('way', 5), ('mere', 5)]\n",
      "\n",
      "Тема 14: [('next', 12), ('good', 8), ('get', 8), ('provabl', 8), ('worri', 7), ('like', 6), ('peopl', 6), ('valu', 6), ('littl', 6), ('moment', 6), ('happen', 6), ('brain', 6), ('boy', 6), ('compos', 6), ('god', 5)]\n",
      "\n",
      "Тема 12: [('love', 14), ('hurt', 12), ('look', 9), ('better', 8), ('said', 6), ('pain', 6), ('go', 6), ('women', 6), ('fact', 6), ('us', 6), ('may', 6), ('perspect', 6), ('shane', 6), ('pride', 6), ('thing', 5)]\n",
      "\n",
      "Тема 27: [('know', 21), ('us', 12), ('go', 9), ('love', 9), ('make', 8), ('heart', 8), ('room', 8), ('joy', 8), ('mean', 8), ('marriag', 8), ('condit', 8), ('matter', 7), ('play', 7), ('awak', 6), ('desir', 6)]\n",
      "\n",
      "Тема 15: [('life', 28), ('love', 14), ('asham', 14), ('give', 10), ('dream', 10), ('action', 10), ('live', 9), ('peopl', 9), ('someth', 7), ('way', 7), ('thing', 7), ('make', 7), ('becom', 7), ('hors', 7), ('know', 6)]\n",
      "\n",
      "Тема 18: [('like', 12), ('feel', 11), ('call', 8), ('choic', 8), ('pornographi', 8), ('total', 7), ('see', 6), ('good', 6), ('thing', 6), ('would', 6), ('book', 6), ('turn', 6), ('new', 5), ('ask', 5), ('finish', 5)]\n",
      "\n",
      "Тема 5: [('car', 8), ('less', 7), ('everyth', 7), ('word', 6), ('might', 6), ('part', 6), ('see', 6), ('river', 6), ('hunger', 6), ('thing', 5), ('use', 5), ('life', 5), ('principl', 5), ('least', 5), ('order', 5)]\n",
      "\n",
      "Тема 7: [('said', 8), ('self', 6), ('life', 6), ('peopl', 6), ('find', 6), ('still', 4), ('live', 4), ('seek', 4), ('chang', 4), ('goe', 4), ('made', 4), ('could', 4), ('success', 4), ('excess', 4), ('ingredi', 4)]\n",
      "\n"
     ]
    }
   ],
   "source": [
    "print('Описание тем (номер темы и наиболее \"важные\" для темы слова):\\n')\n",
    "top_words(mgpmodel.cluster_word_distribution, top_index, 15)"
   ]
  },
  {
   "cell_type": "markdown",
   "metadata": {},
   "source": [
    "Так как здесь придумать визуальное представление для результатов трудно, оценим первые 10 цитат для нескольких \"топовых\" тем: "
   ]
  },
  {
   "cell_type": "code",
   "execution_count": 87,
   "metadata": {},
   "outputs": [],
   "source": [
    "def print_10quotes(topic_n):\n",
    "    for quote in data_for_mgp[mgp_results == topic_n].QUOTE[:10]:\n",
    "        print(quote)\n",
    "        print()"
   ]
  },
  {
   "cell_type": "code",
   "execution_count": 88,
   "metadata": {},
   "outputs": [
    {
     "name": "stdout",
     "output_type": "stream",
     "text": [
      "“I taught him that if you act like you can do something, then it will work. I told him, ‘Pretend to be completely in control and people will”  \n",
      "  ―\n",
      "\n",
      "“Edison’s efforts then took a turn for the grisly.”\n",
      "\n",
      "“The crime rates would go right down, I think, if Americans stopped saying: 'Have a nice day,' to one another. At least it would stop me from contemplating violence; when people in shops & so on order me to have a nice day in this authoritarian way, I want to kill, kill, kill. When I mutter 'sod off' under my breath, they think it is a Russian Orthodox benediction.”\n",
      "\n",
      "“I made the mistake of looking down when I got ready to wash his legs. The water in the lagoon was clear enough to see that he had a hard-on sticking up in this shorts. \"TJ!\"\n",
      "\"Sorry.\" He looked at me sheepishly. \"I cant hide this one.\"\n",
      "I suddenly didn't know where to look. It wasn't his fault though; I had forgotten what would happen if you rubbed a seventeen-year-old all over with your hands.\n",
      "Or any man, actually.”\n",
      "\n",
      "“There is nothing to worry about! Absolutely nothing. You can spend the rest of your life, beginning right now, worrying about the future, and no amount of your worry will change a thing. Remember that worry is defined as being immobilized in the present as a result of things that are going or not going to happen in the future. You must be careful not to confuse worrying with planning for the future.”\n",
      "\n",
      "“I am not always good and noble. I am the hero of this story, but I have my off moments.”  \n",
      "  ―\n",
      "\n",
      "“People learn, early in their lives, what is their reason for being. Maybe that's why they give up on it so early, too. But that's the way it is.”\n",
      "\n",
      "“what you end up remembering isn’t always the same as what you have witnessed.”\n",
      "\n",
      "“Let me give you a piece of advice. The handsome young fellow who's trying to rescue you from a hideous fate is never wrong. Not even if he says the sky is purple and made of hedgehogs.”\n",
      "\n",
      "“Now: I am an affectionate man but I have much trouble showing it.\n",
      "When I was younger I used to worry so much about being alone - of being unlovable or incapable of love. As the years went on, my worries changed. I worried that I had become incapable of having a relationship, of offering intimacy. I felt as though the world lived inside a warm house at night and I was outside, and I couldn't be seen - because I was out there in the night. But now I am inside that house and it feels just the same.\n",
      "\n"
     ]
    }
   ],
   "source": [
    "print_10quotes(24)"
   ]
  },
  {
   "cell_type": "code",
   "execution_count": 89,
   "metadata": {},
   "outputs": [
    {
     "name": "stdout",
     "output_type": "stream",
     "text": [
      "“This is a street where the weaker souls crawl into bed as soon as the sun sets and lie awake listening to the rats.”  \n",
      "  ―\n",
      "\n",
      "“I had never seen a prison, nor had I even imagined one, but there is a racial memory in man that instinctively knows of these things. The architecture of misery has an unmistakable look and feel about it.”\n",
      "\n",
      "“There was a time I didn't know your name\n",
      "Why should I worry, cry in vain\n",
      "but now she's gone, and I don't worry\n",
      "cause I'm sittin' on top of the world.”\n",
      "\n",
      "“I am worried about being in love, because it involves asking so much. I am worried that my life will never fit into his. That I will never know him. That he will never know me. That we get to hear the stories, but never get to hear the full truth.”\n",
      "\n",
      "“But castles in the air were founded on such hopes.”\n",
      "\n",
      "“What darkness to you is light to me”\n",
      "\n",
      "“How are you going to make it move? It doesn't have a – \" \n",
      "\"Be very quiet,\" advised the duke, \"for it goes without saying.\"\n",
      "And, sure enough, as soon as they were all quite still, it began to move quickly through the streets, and in a very short time they arrived at the royal palace.”  \n",
      "  ―\n",
      "\n",
      "“Everyone has a supremely low moment somewhere along the AT, usually when the urge to quit the trail becomes almost overpowering. The irony of my moment was that I wanted to get back on the trail and didn't know how. I hadn't lost just Katz, my boon companion, but my whole sense of connectedness to the trail. I had lost my momentum, my feeling of purpose. In the most literal way I needed to find my feet again.”\n",
      "\n",
      "“Sometimes I felt that growing up and being a girl was about learning to be afraid.”  \n",
      "  ―\n",
      "\n",
      "“At the same time, his past lay before him like a corpse waiting to be embalmed.”\n",
      "\n"
     ]
    }
   ],
   "source": [
    "print_10quotes(25)"
   ]
  },
  {
   "cell_type": "code",
   "execution_count": 90,
   "metadata": {},
   "outputs": [
    {
     "name": "stdout",
     "output_type": "stream",
     "text": [
      "“the rotten tree-trunk, until the very moment when the storm-blast breaks it in two, has all the appearance of might it ever had.”\n",
      "\n",
      "“At a certain point he learned the smarter play was to avoid the things that brought you low.”\n",
      "\n",
      "“It is rare for people to be asked the question which puts them squarely in front of themselves”\n",
      "\n",
      "“And in the end, of course, a true war story is never about war. It’s about sunlight. It’s about the special way that dawn spreads out on a river when you know you must cross the river and march into the mountains and do things you are afraid to do. It’s about love and memory. It’s about sorrow. It’s about sisters who never write back and people who never listen.”\n",
      "\n",
      "“People talk about evidence as if it could really be weighed in scales by a blind Justice.”\n",
      "\n",
      "“That was what a young woman was for. You seduced a young woman in order to be able to finish your talks with her. You could not do that without living with her. You could not live with her without seducing her; but that was the by-product. The point is that you can’t otherwise talk. You can’t finish talks at street corners; in museums; even in drawing-rooms. You mayn’t be in the mood when she is in the mood – for the intimate conversation that means the final communion of your souls. You have to wait together - for a week, for a year, for a lifetime, before the final intimate conversation may be attained … and exhausted … \n",
      " \n",
      "That in effect was love.”\n",
      "\n",
      "“We meant well. We tried our best. \"Good intention\" is a hall pass through history, a sleeping pill that ensures the Dream.”\n",
      "\n",
      "“The same thing as you, the same as she. The same as anyone who has ever been doubted or told to go away. To prove myself better.”\n",
      "\n",
      "“Life has to end,\" she said. \"Love doesn't.”\n",
      "\n",
      "“It is chivalry that makes a true knight, not a sword.”\n",
      "\n"
     ]
    }
   ],
   "source": [
    "print_10quotes(13)"
   ]
  },
  {
   "cell_type": "code",
   "execution_count": 91,
   "metadata": {},
   "outputs": [
    {
     "name": "stdout",
     "output_type": "stream",
     "text": [
      "“Roses are red. Blood is too…”\n",
      "\n",
      "“So for a while, they sat peacefully in the swamp, listening to Mrs. Starch hum while the little panther slurped happily and the emerald leaves overhead shimmered and shook in the sunlight.”  \n",
      "  ―\n",
      "\n",
      "“A woman I know gave me a build-it-yourself bird-feeder kit for Christmas, so I built it, and hung it from the eve of my roof high enough to keep the birds save from my cat. But the birds scratch the seed out of the feeder, then fly down to the deck and eat the seed. They know there's a cat, but still they go down to pick at the seed. When you think about it, people are often like this, too.”\n",
      "\n",
      "“Oak, granite,\n",
      "Lilies by the road,\n",
      "Remember me?\n",
      "I remember you.\n",
      "Clouds brushing\n",
      "Clover hills,\n",
      "Remember me?\n",
      "Sister, child,\n",
      "Grown tall,\n",
      "Remember me?\n",
      "I remember you.”\n",
      "\n",
      "“It was raining. Gigantic ferns leaned over us. The forest drifted down a hill. I could hear a creek rushing down among the rocks. And you, you ridiculous people, you expect me to help you.”  \n",
      "  ―\n",
      "\n",
      "“crenellations, the scarlet and the pale, the airy stone and the”\n",
      "\n",
      "“She was gone and the coldness of it was her final gift. She would do it with a flake of obsidian. He'd taught her himself. Sharper than steel. The edge an atom thick. And she was right. There was no argument. The hundred nights they'd sat up arguing the pros and cons of self destruction with the earnestness of philosophers chained to a madhouse wall. In the morning the boy said nothing at all and when they were packed and ready to set out upon the road he turned and looked back at their campsite and he said: She's gone isn't she? And he said: Yes, she is.”\n",
      "\n",
      "“in a voice flat with the panic-resisting armor of training.”\n",
      "\n",
      "“His blue-and-white striped robe ballooning out in the wind, he rode directly to me and fell off the donkey. Gasping theatrically, he handed me a note and then collapsed face down in the sand. Since the donkey had been doing all the work, I ignored this demonstration. While John bent over the fallen man with expressions of concern I opened the note.”  \n",
      "  ―\n",
      "\n",
      "“*brush, Pattern *backdrop)     {      ”\n",
      "\n"
     ]
    }
   ],
   "source": [
    "print_10quotes(20)"
   ]
  },
  {
   "cell_type": "code",
   "execution_count": 92,
   "metadata": {},
   "outputs": [
    {
     "name": "stdout",
     "output_type": "stream",
     "text": [
      "“There was only one catch and that was Catch-22, which specified that a concern for one’s own safety in the face of dangers that were real and immediate was the process of a rational mind.”\n",
      "\n",
      "“Several days after the original accident in June 1991, William was recovering sufficiently well to allow the Princess to fulfill a commitment to visit Marlow Community Hospital. As she was leaving, an old man in the crowd collapsed with an attack of angina. Diana rushed over to help rather than leaving it to others. When the Prince saw the media coverage of her sympathetic actions, he accused Diana of behaving like a martyr. His sour response typified the yawning gulf between them and gave substance to Diana’s observations on the media interest in their 10th wedding anniversary the following month. She asked in her matter-of-fact way: “What is there to celebrate?”\n",
      "\n",
      "“Oh, by the way, Phury's here again, and he brought that Chosen with him. Figured you'd want to know in case you see a random female ghosting around here.\"\n",
      "Whoa. Surprise. \"How's he doing?\"\n",
      "Zsadist paused. \"I don't know. He's pretty tight about shit. Not real talkative. The bastard.\"\n",
      "\"Oh, and you're a candidate for The View?\"\n",
      "\"Right back at you, Bahbwa.\"\n",
      "\"Touché.”  \n",
      "  ―\n",
      "\n",
      "“I quit my last real job, as a writer at a magazine, when I was twenty-one. That was the moment when I lost my place of prestige on the fast track, and slowly, millimeter by millimeter, I started to get found, to discover who I had been born to be, instead of the impossibly small package, all tied up tightly in myself, that I had agreed to be. That”\n",
      "\n",
      "“Sometimes parents don't find what they're looking for it their child, so they plant seeds for what they'd like to grow there instead. I've witnessed this with the former hockey player who takes his son out to skate before he can even walk. Or in the mother who gave up her ballet dreams when she married, but now scrapes her daughter's hair into a bun and watched from the wings of the stage. We are not, as you'd expect, orchestrating their lives; we are not even trying for a second chance. We are hoping that if this one thing takes root, it might take up enough light and space to keep something else from developing in our children: the disappointment we've already lived.”\n",
      "\n",
      "“Stop, I said. Please do not further endorken yourself to me. You have a great hair, and a car that is most fly, and you have just saved me with your mad ninja driving skills, so do not sully your heroic hottie image in my mind by further reciting your nerdy scholastic agenda.”\n",
      "\n",
      "“he'd replace the window, but the kid was sleeping in his room from now until she was thirty and married to a huge guy with ninja skills.”\n",
      "\n",
      "“Tonight, I feel like my whole body is made out of memories. I’m a mix tape, a cassette that’s been rewound so many times you can hear the fingerprints smudged on the tape.”\n",
      "\n",
      "“The overarching joy and lasting appeal of noir is that it makes doom fun.”\n",
      "\n",
      "“Hazel grew up - did four years in grammar school, four years in reform school, and didn't learn a thing in either place. Reform schools are supposed to teach viciousness and criminality but Hazel didn't pay enough attention.”\n",
      "\n"
     ]
    }
   ],
   "source": [
    "print_10quotes(3)"
   ]
  },
  {
   "cell_type": "markdown",
   "metadata": {},
   "source": [
    "Похоже, что ни ни для одного из просмотренных наборов предложений нельзя выявить по-настоящему общую для всех тему. Видимо, цитаты действительно очень непросто кластеризировать..."
   ]
  },
  {
   "cell_type": "markdown",
   "metadata": {},
   "source": [
    "Сохраним модель и её результаты (просто чтобы не тренировать потом заново):"
   ]
  },
  {
   "cell_type": "code",
   "execution_count": 125,
   "metadata": {},
   "outputs": [],
   "source": [
    "# сохранение в файл\n",
    "with open('mgp_model.pkl', 'wb') as mgp_model_pkl:\n",
    "    pickle.dump(mgpmodel, mgp_model_pkl)"
   ]
  },
  {
   "cell_type": "code",
   "execution_count": 126,
   "metadata": {},
   "outputs": [],
   "source": [
    "# подгрузка из файла\n",
    "with open('mgp_model.pkl', 'rb') as mgp_model_pkl:\n",
    "    mgpmodel = pickle.load(mgp_model_pkl)"
   ]
  },
  {
   "cell_type": "code",
   "execution_count": 127,
   "metadata": {},
   "outputs": [],
   "source": [
    "# сохранение в файл\n",
    "with open('mgp_results.pkl', 'wb') as mgp_results_pkl:\n",
    "    pickle.dump(mgp_results, mgp_results_pkl)"
   ]
  },
  {
   "cell_type": "code",
   "execution_count": 128,
   "metadata": {},
   "outputs": [],
   "source": [
    "# подгрузка из файла\n",
    "with open('mgp_results.pkl', 'rb') as mgp_results_pkl:\n",
    "    mgp_results = pickle.load(mgp_results_pkl)"
   ]
  },
  {
   "cell_type": "markdown",
   "metadata": {},
   "source": [
    "Итоговое содержимое папки с работой:"
   ]
  },
  {
   "cell_type": "code",
   "execution_count": 130,
   "metadata": {},
   "outputs": [
    {
     "name": "stdout",
     "output_type": "stream",
     "text": [
      "'Distributions of topics (t-SNE, LDA) rus.png'\r\n",
      "'Goodreads quotes.ipynb'\r\n",
      " gsdmm\r\n",
      " language.pkl\r\n",
      " lda_model.gs\r\n",
      " lda_model.gs.expElogbeta.npy\r\n",
      " lda_model.gs.id2word\r\n",
      " lda_model.gs.state\r\n",
      " lda_model.gs.state.sstats.npy\r\n",
      " mgp_model.pkl\r\n",
      " mgp_results.pkl\r\n",
      " prepared_quotes.pkl\r\n",
      " quotes.sqlite\r\n",
      " README.md\r\n",
      " word2vec_model.gs\r\n",
      " word2vec_model.gs.trainables.syn1neg.npy\r\n",
      " word2vec_model.gs.wv.vectors.npy\r\n"
     ]
    }
   ],
   "source": [
    "!ls"
   ]
  },
  {
   "cell_type": "code",
   "execution_count": null,
   "metadata": {},
   "outputs": [],
   "source": []
  }
 ],
 "metadata": {
  "kernelspec": {
   "display_name": "Python 3",
   "language": "python",
   "name": "python3"
  },
  "language_info": {
   "codemirror_mode": {
    "name": "ipython",
    "version": 3
   },
   "file_extension": ".py",
   "mimetype": "text/x-python",
   "name": "python",
   "nbconvert_exporter": "python",
   "pygments_lexer": "ipython3",
   "version": "3.7.7"
  }
 },
 "nbformat": 4,
 "nbformat_minor": 4
}
